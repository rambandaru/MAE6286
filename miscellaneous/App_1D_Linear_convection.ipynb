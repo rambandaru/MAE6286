{
 "cells": [
  {
   "cell_type": "code",
   "execution_count": 6,
   "metadata": {
    "collapsed": true
   },
   "outputs": [],
   "source": [
    "import numpy as np\n",
    "import math \n",
    "from matplotlib import pyplot as plt\n",
    "%matplotlib inline"
   ]
  },
  {
   "cell_type": "code",
   "execution_count": 12,
   "metadata": {
    "collapsed": false
   },
   "outputs": [
    {
     "data": {
      "text/plain": [
       "[<matplotlib.lines.Line2D at 0x7f046e4065c0>]"
      ]
     },
     "execution_count": 12,
     "metadata": {},
     "output_type": "execute_result"
    },
    {
     "data": {
      "image/png": "[encoded data removed]",
      "text/plain": [
       "<matplotlib.figure.Figure at 0x7f046e7bb6d8>"
      ]
     },
     "metadata": {},
     "output_type": "display_data"
    }
   ],
   "source": [
    "Nx = 20\n",
    "Ny = 20\n",
    "\n",
    "Lx = 1.\n",
    "Ly = 1.\n",
    "\n",
    "dx = Lx/Nx\n",
    "dy = Ly/Ny\n",
    "\n",
    "x_start, x_end = 0.0,Lx\n",
    "y_start,y_end = 0.0,Ly\n",
    "\n",
    "x = np.linspace(x_start,x_end,Nx+3)\n",
    "y = np.linspace(y_start,y_end,Ny+3)\n",
    "X,Y= np.meshgrid(x,y)\n",
    " \n",
    "size=10\n",
    "plt.figure(figsize=(size, (y_end-y_start)/(x_end-x_start)*10))\n",
    "plt.xlabel('x', fontsize=16)\n",
    "plt.ylabel('y', fontsize=16)\n",
    "#plt.xlim(x_start-dx, x_end+dy)\n",
    "#plt.ylim(y_start-dy, y_end+dy)\n",
    "plt.plot(X,Y,color='red')\n",
    "plt.plot(X.T,Y.T,color='red')\n",
    "plt.plot(X[1:-1,1:-1], Y[1:-1,1:-1],color='black')\n",
    "plt.plot(X[1:-1,1:-1].T, Y[1:-1,1:-1].T,color='black')\n",
    "plt.plot(X[0,:], Y[0,:],color='red')\n",
    "plt.plot(X[-1,:], Y[-1,:],color='red')\n",
    "plt.plot(X[:,0], Y[:,0], color='red')\n",
    "plt.plot(X[:,-1], Y[:,-1],color='red')"
   ]
  },
  {
   "cell_type": "code",
   "execution_count": null,
   "metadata": {
    "collapsed": true
   },
   "outputs": [],
   "source": []
  }
 ],
 "metadata": {
  "kernelspec": {
   "display_name": "Python [default]",
   "language": "python",
   "name": "python3"
  },
  "language_info": {
   "codemirror_mode": {
    "name": "ipython",
    "version": 3
   },
   "file_extension": ".py",
   "mimetype": "text/x-python",
   "name": "python",
   "nbconvert_exporter": "python",
   "pygments_lexer": "ipython3",
   "version": "3.5.2"
  }
 },
 "nbformat": 4,
 "nbformat_minor": 1
}
