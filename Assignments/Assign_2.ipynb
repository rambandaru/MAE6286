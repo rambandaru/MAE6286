{
 "cells": [
  {
   "cell_type": "code",
   "execution_count": 1,
   "metadata": {
    "collapsed": false
   },
   "outputs": [],
   "source": [
    "import numpy \n",
    "import math \n",
    "import sympy\n",
    "from matplotlib import pyplot \n",
    "%matplotlib inline"
   ]
  },
  {
   "cell_type": "markdown",
   "metadata": {
    "collapsed": true
   },
   "source": [
    "## 1. Stability"
   ]
  },
  {
   "cell_type": "markdown",
   "metadata": {},
   "source": [
    "The condition for a wave to be stable is;\n",
    "\n",
    "$\\sigma = \\frac{c \\Delta t}{\\Delta x} <= 1$\n",
    "\n",
    "$Therefore;$\n",
    "\n",
    "$\\Delta t <= \\Delta x / c$"
   ]
  },
  {
   "cell_type": "code",
   "execution_count": 2,
   "metadata": {
    "collapsed": false
   },
   "outputs": [
    {
     "name": "stdout",
     "output_type": "stream",
     "text": [
      "The maximum value of Δt that will ensure the stability is; 0.05\n"
     ]
    }
   ],
   "source": [
    "dx = 0.2  \n",
    "c = 4      \n",
    "dt = dx/c\n",
    "\n",
    "print(\"The maximum value of Δt that will ensure the stability is;\", dt)"
   ]
  },
  {
   "cell_type": "markdown",
   "metadata": {},
   "source": [
    "## 2. Sympy"
   ]
  },
  {
   "cell_type": "markdown",
   "metadata": {
    "collapsed": true
   },
   "source": [
    "Using $Sympy$ evluate the partial derivative with respect to $x$ of the following eqaution at $x = 2.2$.\n",
    "\n",
    "$\\frac{\\cos^2(x)sin^3(x)}{4x^5 \\exp(x)}$"
   ]
  },
  {
   "cell_type": "code",
   "execution_count": 3,
   "metadata": {
    "collapsed": false
   },
   "outputs": [],
   "source": [
    "## Integration and lambdify have to imported from Sympy\n",
    "from sympy import init_printing\n",
    "init_printing()\n",
    "from sympy.utilities.lambdify import lambdify"
   ]
  },
  {
   "cell_type": "code",
   "execution_count": 38,
   "metadata": {
    "collapsed": false
   },
   "outputs": [
    {
     "data": {
      "image/png": "[encoded data removed]",
      "text/latex": [
       "$$\\frac{e^{- x} \\cos^{2}{\\left (x \\right )}}{4 x^{5} \\sin^{3}{\\left (x \\right )}}$$"
      ],
      "text/plain": [
       " -x    2    \n",
       "ℯ  ⋅cos (x) \n",
       "────────────\n",
       "   5    3   \n",
       "4⋅x ⋅sin (x)"
      ]
     },
     "execution_count": 38,
     "metadata": {},
     "output_type": "execute_result"
    }
   ],
   "source": [
    "x = sympy.symbols('x')\n",
    "u = sympy.cos(x)**2/(sympy.sin(x)**3)/(4*x**5))\n",
    "u"
   ]
  },
  {
   "cell_type": "code",
   "execution_count": null,
   "metadata": {
    "collapsed": true
   },
   "outputs": [],
   "source": []
  }
 ],
 "metadata": {
  "anaconda-cloud": {},
  "kernelspec": {
   "display_name": "Python [default]",
   "language": "python",
   "name": "python3"
  },
  "language_info": {
   "codemirror_mode": {
    "name": "ipython",
    "version": 3
   },
   "file_extension": ".py",
   "mimetype": "text/x-python",
   "name": "python",
   "nbconvert_exporter": "python",
   "pygments_lexer": "ipython3",
   "version": "3.5.2"
  }
 },
 "nbformat": 4,
 "nbformat_minor": 1
}
