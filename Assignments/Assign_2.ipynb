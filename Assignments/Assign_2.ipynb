{
 "cells": [
  {
   "cell_type": "code",
   "execution_count": 1,
   "metadata": {
    "collapsed": false
   },
   "outputs": [],
   "source": [
    "import numpy  \n",
    "import math \n",
    "import sympy   ##importing sympy \n",
    "from matplotlib import pyplot \n",
    "%matplotlib inline"
   ]
  },
  {
   "cell_type": "markdown",
   "metadata": {
    "collapsed": true
   },
   "source": [
    "## 1. Stability"
   ]
  },
  {
   "cell_type": "markdown",
   "metadata": {},
   "source": [
    "The condition for a wave to be stable is;\n",
    "\n",
    "$\\sigma = \\frac{c \\Delta t}{\\Delta x} <= 1$\n",
    "\n",
    "$Therefore;$\n",
    "\n",
    "$\\Delta t <= \\Delta x / c$"
   ]
  },
  {
   "cell_type": "code",
   "execution_count": 2,
   "metadata": {
    "collapsed": false
   },
   "outputs": [
    {
     "name": "stdout",
     "output_type": "stream",
     "text": [
      "The maximum value of Δt that will ensure the stability is; 0.05\n"
     ]
    }
   ],
   "source": [
    "dx = 0.2  \n",
    "c = 4      \n",
    "dt = dx/c\n",
    "\n",
    "print(\"The maximum value of Δt that will ensure the stability is;\", dt)"
   ]
  },
  {
   "cell_type": "markdown",
   "metadata": {},
   "source": [
    "## 2. Sympy"
   ]
  },
  {
   "cell_type": "markdown",
   "metadata": {
    "collapsed": true
   },
   "source": [
    "Using $Sympy$ evluate the partial derivative with respect to $x$ of the following eqaution at $x = 2.2$.\n",
    "\n",
    "$\\frac{\\cos^2(x)sin^3(x)}{4x^5 \\exp(x)}$"
   ]
  },
  {
   "cell_type": "code",
   "execution_count": 3,
   "metadata": {
    "collapsed": false
   },
   "outputs": [],
   "source": [
    "## Integration and lambdify have to imported from Sympy\n",
    "from sympy import init_printing\n",
    "init_printing()"
   ]
  },
  {
   "cell_type": "code",
   "execution_count": 4,
   "metadata": {
    "collapsed": false
   },
   "outputs": [
    {
     "data": {
      "image/png": "[encoded data removed]",
      "text/latex": [
       "$$\\frac{\\cos^{2}{\\left (x \\right )}}{4 x^{5}} e^{- x} \\sin^{3}{\\left (x \\right )}$$"
      ],
      "text/plain": [
       " -x    3       2   \n",
       "ℯ  ⋅sin (x)⋅cos (x)\n",
       "───────────────────\n",
       "           5       \n",
       "        4⋅x        "
      ]
     },
     "execution_count": 4,
     "metadata": {},
     "output_type": "execute_result"
    }
   ],
   "source": [
    "x = sympy.symbols('x')\n",
    "u = sympy.cos(x)**2*(sympy.sin(x)**3)/((4*x**5)*sympy.exp(x))\n",
    "u"
   ]
  },
  {
   "cell_type": "code",
   "execution_count": 5,
   "metadata": {
    "collapsed": false
   },
   "outputs": [
    {
     "data": {
      "image/png": "[encoded data removed]",
      "text/latex": [
       "$$- \\frac{\\sin^{4}{\\left (x \\right )}}{2 x^{5}} e^{- x} \\cos{\\left (x \\right )} - \\frac{\\cos^{2}{\\left (x \\right )}}{4 x^{5}} e^{- x} \\sin^{3}{\\left (x \\right )} + \\frac{3 e^{- x}}{4 x^{5}} \\sin^{2}{\\left (x \\right )} \\cos^{3}{\\left (x \\right )} - \\frac{5 e^{- x}}{4 x^{6}} \\sin^{3}{\\left (x \\right )} \\cos^{2}{\\left (x \\right )}$$"
      ],
      "text/plain": [
       "   -x    4              -x    3       2         -x    2       3         -x    \n",
       "  ℯ  ⋅sin (x)⋅cos(x)   ℯ  ⋅sin (x)⋅cos (x)   3⋅ℯ  ⋅sin (x)⋅cos (x)   5⋅ℯ  ⋅sin\n",
       "- ────────────────── - ─────────────────── + ───────────────────── - ─────────\n",
       "            5                     5                      5                    \n",
       "         2⋅x                   4⋅x                    4⋅x                     \n",
       "\n",
       "3       2   \n",
       " (x)⋅cos (x)\n",
       "────────────\n",
       "   6        \n",
       "4⋅x         "
      ]
     },
     "execution_count": 5,
     "metadata": {},
     "output_type": "execute_result"
    }
   ],
   "source": [
    "uprime = u.diff(x)\n",
    "uprime"
   ]
  },
  {
   "cell_type": "code",
   "execution_count": 6,
   "metadata": {
    "collapsed": false
   },
   "outputs": [
    {
     "name": "stdout",
     "output_type": "stream",
     "text": [
      "-exp(-x)*sin(x)**4*cos(x)/(2*x**5) - exp(-x)*sin(x)**3*cos(x)**2/(4*x**5) + 3*exp(-x)*sin(x)**2*cos(x)**3/(4*x**5) - 5*exp(-x)*sin(x)**3*cos(x)**2/(4*x**6)\n"
     ]
    }
   ],
   "source": [
    "from sympy.utilities.lambdify import lambdify\n",
    "f = uprime\n",
    "print(f)"
   ]
  },
  {
   "cell_type": "code",
   "execution_count": 7,
   "metadata": {
    "collapsed": false
   },
   "outputs": [
    {
     "name": "stdout",
     "output_type": "stream",
     "text": [
      "The Value of equation at x = 2.2 is: -0.00026648912670920613\n"
     ]
    }
   ],
   "source": [
    "f_lamb = lambdify((x),f)\n",
    "print(\"The Value of equation at x = 2.2 is:\",format(f_lamb(2.2)))"
   ]
  },
  {
   "cell_type": "markdown",
   "metadata": {
    "collapsed": true
   },
   "source": [
    "## 3. Traffic Flow"
   ]
  },
  {
   "cell_type": "markdown",
   "metadata": {
    "collapsed": true
   },
   "source": [
    "The equations to describe the behaviour;\n",
    "\n",
    "$V = V_{max}(1-\\frac{\\rho}{\\rho_{max}})$\n",
    "\n",
    "$F = F(\\rho) = V(\\rho)\\rho = V_{max}\\rho(1-\\frac{\\rho}{\\rho_{max}})$\n",
    "\n",
    "$\\frac{\\partial \\rho}{\\partial t} + \\frac{\\partial F}{\\partial x} = 0$\n"
   ]
  },
  {
   "cell_type": "markdown",
   "metadata": {},
   "source": [
    "#### Given"
   ]
  },
  {
   "cell_type": "markdown",
   "metadata": {},
   "source": [
    "### Simulation Results: PART A"
   ]
  },
  {
   "cell_type": "markdown",
   "metadata": {},
   "source": [
    "$V_{max} = 80 \\frac{km}{hr}$\n",
    "\n",
    "$L = 11 Km$\n",
    "\n",
    "$\\rho_{max} = 250 \\frac{cars}{Km}$\n",
    "\n",
    "$nx = 51$\n",
    "\n",
    "$\\Delta t = 0.001 hours$\n",
    "\n",
    "$\\rho(0,t) = 10$"
   ]
  },
  {
   "cell_type": "code",
   "execution_count": 8,
   "metadata": {
    "collapsed": false
   },
   "outputs": [],
   "source": [
    "L = 11\n",
    "nx = 100\n",
    "dx = L/(nx-1)\n",
    "nt = 100\n",
    "dt = 0.001\n",
    "vmax = 80\n",
    "rhomax = 250"
   ]
  },
  {
   "cell_type": "code",
   "execution_count": 9,
   "metadata": {
    "collapsed": false
   },
   "outputs": [
    {
     "data": {
      "image/png": "[encoded data removed]",
      "text/latex": [
       "$$\\left ( 0, \\quad 52\\right )$$"
      ],
      "text/plain": [
       "(0, 52)"
      ]
     },
     "execution_count": 9,
     "metadata": {},
     "output_type": "execute_result"
    },
    {
     "data": {
      "image/png": "[encoded data removed]",
      "text/plain": [
       "<matplotlib.figure.Figure at 0x7fb645947438>"
      ]
     },
     "metadata": {},
     "output_type": "display_data"
    }
   ],
   "source": [
    "x = numpy.linspace(0,L,nx)\n",
    "rho = numpy.ones(nx)*10\n",
    "rho[10:20] = 50\n",
    "#rho.min()\n",
    "pyplot.plot(x,rho, color='red',ls='--', lw=3)\n",
    "pyplot.ylim(0,52)\n",
    "#print(rho)"
   ]
  },
  {
   "cell_type": "code",
   "execution_count": 10,
   "metadata": {
    "collapsed": false
   },
   "outputs": [
    {
     "name": "stdout",
     "output_type": "stream",
     "text": [
      "The minimum velocity at t= 0 is  17.7777777778 m/s\n"
     ]
    }
   ],
   "source": [
    "v = (vmax*(1-rho/rhomax))*(5/18)\n",
    "print('The minimum velocity at t= 0 is ',v.min(),'m/s')"
   ]
  },
  {
   "cell_type": "code",
   "execution_count": 11,
   "metadata": {
    "collapsed": true
   },
   "outputs": [],
   "source": [
    "for n in range(1,nt):\n",
    "    rn = rho.copy()\n",
    "    for j in range(1,nx):\n",
    "        v = (vmax*(1-rho/rhomax))*(5/18)\n",
    "        f1 = v * rho\n",
    "        rho[1:]=rn[1:]-dt/dx*(f1[1:]-f1[0:-1])\n",
    "        rho[0] = 10"
   ]
  },
  {
   "cell_type": "code",
   "execution_count": 12,
   "metadata": {
    "collapsed": false
   },
   "outputs": [
    {
     "data": {
      "image/png": "[encoded data removed]",
      "text/latex": [
       "$$\\left ( 0, \\quad 52\\right )$$"
      ],
      "text/plain": [
       "(0, 52)"
      ]
     },
     "execution_count": 12,
     "metadata": {},
     "output_type": "execute_result"
    },
    {
     "data": {
      "image/png": "[encoded data removed]",
      "text/plain": [
       "<matplotlib.figure.Figure at 0x7fb61ebb8fd0>"
      ]
     },
     "metadata": {},
     "output_type": "display_data"
    }
   ],
   "source": [
    "pyplot.plot(x,rho, color='blue',ls='--', lw=3)\n",
    "pyplot.ylim(0,52)"
   ]
  },
  {
   "cell_type": "code",
   "execution_count": 13,
   "metadata": {
    "collapsed": false
   },
   "outputs": [
    {
     "name": "stdout",
     "output_type": "stream",
     "text": [
      "The minimum velocity at t=6 minutes is 18.5958583202 m/s\n"
     ]
    }
   ],
   "source": [
    "vmin = (vmax*(1-rho/rhomax))*(5/18)\n",
    "vn = numpy.min(vmin)\n",
    "print('The minimum velocity at t=6 minutes is', vn ,'m/s')"
   ]
  },
  {
   "cell_type": "code",
   "execution_count": 14,
   "metadata": {
    "collapsed": false
   },
   "outputs": [
    {
     "name": "stdout",
     "output_type": "stream",
     "text": [
      "The Average velocity at t=3 minutes is 20.9777777778 m/s\n"
     ]
    }
   ],
   "source": [
    "rmean = numpy.mean(rho)\n",
    "vmean = (vmax*(1-rmean/rhomax))*(5/18)\n",
    "print('The Average velocity at t=3 minutes is',vmean,'m/s')"
   ]
  },
  {
   "cell_type": "markdown",
   "metadata": {},
   "source": [
    "#### Simulation Results: PART B"
   ]
  },
  {
   "cell_type": "markdown",
   "metadata": {},
   "source": [
    "$V_{max} = 136 \\frac{km}{hr}$\n",
    "\n",
    "$L = 11 Km$\n",
    "\n",
    "$\\rho_{max} = 250 \\frac{cars}{Km}$\n",
    "\n",
    "$nx = 51$\n",
    "\n",
    "$\\Delta t = 0.001 hours$\n",
    "\n",
    "Boundary Conditions\n",
    "\n",
    "$\\rho(0,t) = 20$"
   ]
  },
  {
   "cell_type": "code",
   "execution_count": 15,
   "metadata": {
    "collapsed": true
   },
   "outputs": [],
   "source": [
    "L = 11\n",
    "nx = 50\n",
    "dx = L/(nx-1)\n",
    "nt = 51\n",
    "dt = 0.001\n",
    "vmax = 136\n",
    "rhomax = 250"
   ]
  },
  {
   "cell_type": "code",
   "execution_count": 16,
   "metadata": {
    "collapsed": false
   },
   "outputs": [
    {
     "data": {
      "image/png": "[encoded data removed]",
      "text/latex": [
       "$$\\left ( 0, \\quad 52\\right )$$"
      ],
      "text/plain": [
       "(0, 52)"
      ]
     },
     "execution_count": 16,
     "metadata": {},
     "output_type": "execute_result"
    },
    {
     "data": {
      "image/png": "[encoded data removed]",
      "text/plain": [
       "<matplotlib.figure.Figure at 0x7fb645968470>"
      ]
     },
     "metadata": {},
     "output_type": "display_data"
    }
   ],
   "source": [
    "x = numpy.linspace(0,L,nx)\n",
    "rho = numpy.ones(nx)*20\n",
    "rho[10:20] = 50\n",
    "#rho.min()\n",
    "pyplot.plot(x,rho, color='red',ls='--', lw=3)\n",
    "pyplot.ylim(0,52)\n",
    "#print(rho)"
   ]
  },
  {
   "cell_type": "code",
   "execution_count": 17,
   "metadata": {
    "collapsed": false
   },
   "outputs": [
    {
     "name": "stdout",
     "output_type": "stream",
     "text": [
      "The minimum velocity at t= 0 is  30.2222222222 m/s\n"
     ]
    }
   ],
   "source": [
    "v = (vmax*(1-rho/rhomax))*(5/18)\n",
    "print('The minimum velocity at t= 0 is ',v.min(),'m/s')"
   ]
  },
  {
   "cell_type": "code",
   "execution_count": 21,
   "metadata": {
    "collapsed": false
   },
   "outputs": [],
   "source": [
    "for n in range(1,nt):\n",
    "    rn = rho.copy()\n",
    "    \n",
    "    for j in range(1,nx):\n",
    "        v = (vmax*(1-rho/rhomax))*(5/18)\n",
    "        f1 = v * rho\n",
    "        rho[1:]=rn[1:]-dt/dx*(f1[1:]-f1[0:-1])\n",
    "        rho[0] = 20"
   ]
  },
  {
   "cell_type": "code",
   "execution_count": null,
   "metadata": {
    "collapsed": true
   },
   "outputs": [],
   "source": [
    "pyplot.plot(x,rho, color='blue',ls='--', lw=3)\n",
    "pyplot.ylim(0,52)"
   ]
  },
  {
   "cell_type": "code",
   "execution_count": 27,
   "metadata": {
    "collapsed": false
   },
   "outputs": [
    {
     "name": "stdout",
     "output_type": "stream",
     "text": [
      "The minimum velocity at t=6 minutes is 30.9741434348 m/s\n"
     ]
    }
   ],
   "source": [
    "vmin2 = (vmax*(1-rho/rhomax))*(5/18)\n",
    "vn = numpy.min(vmin2)\n",
    "print('The minimum velocity at t=6 minutes is',vn,'m/s')"
   ]
  },
  {
   "cell_type": "code",
   "execution_count": 25,
   "metadata": {
    "collapsed": false
   },
   "outputs": [
    {
     "name": "stdout",
     "output_type": "stream",
     "text": [
      "The Average velocity at t=3 minutes is 33.8489180962 m/s\n"
     ]
    }
   ],
   "source": [
    "rmean = numpy.mean(rho)\n",
    "vmean = (vmax*(1-rmean/rhomax))*(5/18)\n",
    "print('The Average velocity at t=3 minutes is',vmean,'m/s')"
   ]
  },
  {
   "cell_type": "code",
   "execution_count": null,
   "metadata": {
    "collapsed": true
   },
   "outputs": [],
   "source": []
  }
 ],
 "metadata": {
  "anaconda-cloud": {},
  "kernelspec": {
   "display_name": "Python [default]",
   "language": "python",
   "name": "python3"
  },
  "language_info": {
   "codemirror_mode": {
    "name": "ipython",
    "version": 3
   },
   "file_extension": ".py",
   "mimetype": "text/x-python",
   "name": "python",
   "nbconvert_exporter": "python",
   "pygments_lexer": "ipython3",
   "version": "3.5.2"
  }
 },
 "nbformat": 4,
 "nbformat_minor": 1
}
