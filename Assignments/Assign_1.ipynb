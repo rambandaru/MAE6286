{
 "cells": [
  {
   "cell_type": "code",
   "execution_count": 8,
   "metadata": {
    "collapsed": false
   },
   "outputs": [],
   "source": [
    "import numpy\n",
    "import math\n",
    "from matplotlib import pyplot\n",
    "from scipy import integrate"
   ]
  },
  {
   "cell_type": "code",
   "execution_count": 9,
   "metadata": {
    "collapsed": true
   },
   "outputs": [],
   "source": [
    "%matplotlib inline"
   ]
  },
  {
   "cell_type": "markdown",
   "metadata": {},
   "source": [
    "$Given:$\n",
    "\n",
    "$m_s$ = $50 Kg$ \n",
    "\n",
    "$g$ = $9.81 \\frac{m}{s^2}$\n",
    "\n",
    "$\\rho$ = $1.091 \\frac{kg}{m^3}$\n",
    "\n",
    "$r$ = $0.5 m$\n",
    "\n",
    "$A$ = $\\pi r^2$\n",
    "\n",
    "$v_c$ = $3.25 \\frac{m}{S}$\n",
    "\n",
    "$C_D$ = $0.15$\n",
    "\n",
    "$m_po$ = $100 kg$ at $t$ = $0$\n",
    "\n"
   ]
  },
  {
   "cell_type": "markdown",
   "metadata": {},
   "source": [
    "$The Equations of motion for a rocket in purely vertical flight are given by:$\n",
    "\n",
    "$\\frac{dh}{dt}$ = $v$\n",
    "\n",
    "$(m_s + m_p) \\frac{dv}{dt}$ = $-(m_s + m_p)g + \\dot{m_p}{v_e} - \\frac{1}{2} \\rho v{|v|}A{C_D}$\n",
    "\n",
    "$m_p$ = $m_po - \\int_0^t \\dot{mp}dr $"
   ]
  },
  {
   "cell_type": "code",
   "execution_count": 24,
   "metadata": {
    "collapsed": false
   },
   "outputs": [
    {
     "name": "stdout",
     "output_type": "stream",
     "text": [
      "0.7853981633974483\n"
     ]
    }
   ],
   "source": [
    "ms = 50\n",
    "g = 9.81\n",
    "rho = 9.81\n",
    "r = 0.5\n",
    "A = math.pi*r**2\n",
    "v_e = 3.25\n",
    "C_d = 0.15\n",
    "mf = 100.\n",
    "mdot = 20.0\n",
    "v0 = 0.0\n",
    "h0 = 0.0\n",
    "print (A)"
   ]
  },
  {
   "cell_type": "code",
   "execution_count": null,
   "metadata": {
    "collapsed": false
   },
   "outputs": [],
   "source": [
    "# time derivatives\n",
    "def f(u):\n",
    "    v = u[0]\n",
    "    h = u[1]\n",
    "    return numpy.array([-g + (mdot/(ms+mf))*ve- ((1./2.)*rho*v*abs(v)*numpy.pi*r**2*C_d)/(ms + mf), v])\n",
    "    "
   ]
  },
  {
   "cell_type": "code",
   "execution_count": null,
   "metadata": {
    "collapsed": true
   },
   "outputs": [],
   "source": [
    "# function to solve eulers \n",
    "def euler_step(u, f, dt):\n",
    "    return u + dt * f(u)"
   ]
  },
  {
   "cell_type": "code",
   "execution_count": null,
   "metadata": {
    "collapsed": false
   },
   "outputs": [],
   "source": [
    "def rocket(v0,h0):\n",
    "    T=40.0\n",
    "    dt = 0.1\n",
    "    N = int(T/dt)+1\n",
    "    t= numpy.linspace(0.0, T, N)\n",
    "    u= numpy.empty((N,2))\n",
    "    u[0]= numpy.array([v0, h0])\n",
    "    global mf\n",
    "    global mdot\n",
    "    for n in range(N-1):\n",
    "        mf=mf-mdot*dt\n",
    "        if (mf<=0):\n",
    "            mf = 0\n",
    "            mdot = 0\n",
    "        u[n+1]=euler_step(u[n], f, dt)\n",
    "        print (n, u[n+1,1])\n",
    "        if (u[n+1, 1]<0):\n",
    "            break\n",
    "    return u,t,n\n",
    "    "
   ]
  },
  {
   "cell_type": "code",
   "execution_count": null,
   "metadata": {
    "collapsed": false
   },
   "outputs": [],
   "source": [
    "[u,t,n] = rocket(v0,h0)\n",
    "\n",
    "v= u[0:n,0]\n",
    "h= u[0:n,1]\n",
    "t= t[0:n]"
   ]
  },
  {
   "cell_type": "code",
   "execution_count": null,
   "metadata": {
    "collapsed": true
   },
   "outputs": [],
   "source": []
  }
 ],
 "metadata": {
  "anaconda-cloud": {},
  "kernelspec": {
   "display_name": "Python [default]",
   "language": "python",
   "name": "python3"
  },
  "language_info": {
   "codemirror_mode": {
    "name": "ipython",
    "version": 3
   },
   "file_extension": ".py",
   "mimetype": "text/x-python",
   "name": "python",
   "nbconvert_exporter": "python",
   "pygments_lexer": "ipython3",
   "version": "3.5.2"
  }
 },
 "nbformat": 4,
 "nbformat_minor": 0
}
