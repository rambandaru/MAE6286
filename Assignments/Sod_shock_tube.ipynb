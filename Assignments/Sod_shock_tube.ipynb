{
 "cells": [
  {
   "cell_type": "code",
   "execution_count": 1,
   "metadata": {
    "collapsed": true
   },
   "outputs": [],
   "source": [
    "%matplotlib inline\n",
    "import numpy \n",
    "from matplotlib import pyplot\n",
    "from matplotlib import rcParams\n",
    "rcParams['font.family'] = 'serif'\n",
    "rcParams['font.size'] = 16"
   ]
  },
  {
   "cell_type": "code",
   "execution_count": 7,
   "metadata": {
    "collapsed": false
   },
   "outputs": [],
   "source": [
    "nx = 81\n",
    "dx = 0.25\n",
    "dt = 0.0002\n",
    "gamma = 1.4\n",
    "x = numpy.linspace(-10.,10.,nx)\n",
    "#print(x)"
   ]
  },
  {
   "cell_type": "code",
   "execution_count": 12,
   "metadata": {
    "collapsed": false
   },
   "outputs": [],
   "source": [
    "def u_int(nx):\n",
    "    gamma = 1.4\n",
    "    U = numpy.zeros((3,n),type = float)\n",
    "    index = numpy.where(x<o)\n",
    "    \n",
    "    U[1,index] = 1\n",
    "    U[1,index[-1][-1]+1:] = 0.125\n",
    "    \n",
    "    U[2,index] = 0.\n",
    "    U[2,index[-1][-1]+1:] = 0.\n",
    "    \n",
    "    U[3,index] = 10*10**5/(gamma-1)\n",
    "    U[3,index[-1][-1]+1:] = 10*10**4/(gamma-1)\n",
    "    \n",
    "    return U   "
   ]
  },
  {
   "cell_type": "code",
   "execution_count": 14,
   "metadata": {
    "collapsed": true
   },
   "outputs": [],
   "source": [
    "def computeF(U):\n",
    "    gamma = 1.4\n",
    "    n = len(U[0,:])\n",
    "    \n",
    "    F = numpy.zeros((3,n),type = float)\n",
    "    \n",
    "    F[1,:] = U[2,:]\n",
    "    F[2,:] = (U[2,:]**2/U[0,:])+(gamma-1)*(U[3,:]-0.5*(U[2,:]**2/U[1,:]))\n",
    "    F[3,:] = (U[3,:]+(gamma-1)*(U[3,:]-0.5*(U[2,:]**2/u[1,:])))*(U[2,:]/U[1,:])\n",
    "    \n",
    "    return F"
   ]
  },
  {
   "cell_type": "code",
   "execution_count": null,
   "metadata": {
    "collapsed": true
   },
   "outputs": [],
   "source": [
    "def richtmyer(u, nt, dt, dx):\n",
    "    ustar = u.copy()\n",
    "    for i in range(nt):\n",
    "        un = u.copy()\n",
    "        F = compute_f(un)\n",
    "        ubar[:,:-1] = 0.5*(un[:,1:] + un[:,:-1])-(dt/(2*dx))*(F[:,1:]-F[:,:-1])\n",
    "        ubar[:,0] = ubar[:,1]\n",
    "        F1 = computeF()\n",
    "    "
   ]
  }
 ],
 "metadata": {
  "anaconda-cloud": {},
  "kernelspec": {
   "display_name": "Python [default]",
   "language": "python",
   "name": "python3"
  },
  "language_info": {
   "codemirror_mode": {
    "name": "ipython",
    "version": 3
   },
   "file_extension": ".py",
   "mimetype": "text/x-python",
   "name": "python",
   "nbconvert_exporter": "python",
   "pygments_lexer": "ipython3",
   "version": "3.5.2"
  }
 },
 "nbformat": 4,
 "nbformat_minor": 1
}
