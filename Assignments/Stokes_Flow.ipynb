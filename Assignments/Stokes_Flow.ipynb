{
 "cells": [
  {
   "cell_type": "code",
   "execution_count": 1,
   "metadata": {
    "collapsed": true
   },
   "outputs": [],
   "source": [
    "%matplotlib inline\n",
    "import numpy \n",
    "from matplotlib import pyplot \n",
    "from matplotlib import rcParams\n",
    "rcParams['font.family'] = 'serif'\n",
    "rcParams['font.size'] = 16"
   ]
  },
  {
   "cell_type": "markdown",
   "metadata": {},
   "source": [
    "$\\frac{\\partial u}{\\partial t} + u.\\triangledown u = - \\frac{1}{\\rho} \\triangledown p + v \\triangledown^2 u$\n",
    "\n",
    "on non-dimensionalising it;\n",
    "\n",
    "$Re(\\frac{\\partial u^*}{\\partial t} + u^*. \\triangledown u^*) = -\\triangledown p^* + \\triangledown^2 u^*$\n",
    "\n",
    "To obtain the stokes flow, we assume that reynolds number approaches to zero.\n",
    "\n",
    "$0 = -\\triangledown p + \\triangledown^2 u$\n",
    "\n",
    "on applying curl operator on both sides of the equation:\n",
    "\n",
    "$\\triangledown \\times 0 = \\triangledown \\times (-\\triangledown p + \\triangledown^2 u)$\n",
    "\n",
    "the left hand side remains zero, while the first term on the right hand side is\n",
    "\n",
    "$\\triangledown \\times -\\triangledown p = 0$\n",
    "\n",
    "Finally,\n",
    "\n",
    "\n",
    "$\\triangledown \\times -\\triangledown^2 u = \\triangledown^2 \\omega$\n",
    "\n",
    "on simplification, we get;\n",
    "\n",
    "$\\triangledown^2 \\omega = 0$"
   ]
  },
  {
   "cell_type": "markdown",
   "metadata": {},
   "source": [
    "# Stream Function"
   ]
  },
  {
   "cell_type": "markdown",
   "metadata": {},
   "source": [
    "$u = \\frac{\\partial \\psi}{\\partial y}$ and $v = -\\frac{\\partial \\psi}{\\partial x}$\n",
    "\n",
    "in $2D$, we can write out the velocity as;\n",
    "\n",
    "$\\omega = \\frac{\\partial v}{\\partial x} - \\frac{\\partial u}{\\partial y}$\n",
    "\n",
    "on combining, the previous equation yields another equation;\n",
    "\n",
    "$\\triangledown^2 = - \\omega$\n",
    "\n",
    "At a very low Reynolds numbers,\n",
    "\n",
    "$\\triangledown^2 \\omega = 0$\n",
    "\n",
    "$\\triangledown^2 \\psi = - \\omega$\n",
    "\n",
    "on substituting, we arrive to new equation,\n",
    "\n",
    "$\\triangledown^4 \\psi = 0$"
   ]
  },
  {
   "cell_type": "code",
   "execution_count": 2,
   "metadata": {
    "collapsed": true
   },
   "outputs": [],
   "source": [
    "# initial conditions;\n",
    "\n",
    "nx = 41\n",
    "ny = 41\n",
    "\n",
    "l = 1.\n",
    "h = 1.\n",
    "\n",
    "x = numpy.linspace(0,l,nx)\n",
    "y = numpy.linspace(0,h,ny)\n",
    "\n",
    "dx = l/(nx-1)\n",
    "dy = h/(ny-1)\n",
    "\n",
    "w1 = numpy.zeros((nx,ny))\n",
    "p1 = numpy.zeros((nx,ny))\n",
    "\n",
    "l1_target = 1e-6\n",
    "\n",
    "u = 1"
   ]
  },
  {
   "cell_type": "code",
   "execution_count": 3,
   "metadata": {
    "collapsed": true
   },
   "outputs": [],
   "source": [
    "def L1norm(new, old):\n",
    "    norm = numpy.sum(numpy.abs(new-old))\n",
    "    return norm"
   ]
  },
  {
   "cell_type": "code",
   "execution_count": 4,
   "metadata": {
    "collapsed": true
   },
   "outputs": [],
   "source": [
    "def stokes(w,p,dy,u,l1_target):\n",
    "    \n",
    "    l1norm = 1\n",
    "    \n",
    "    wn = numpy.empty_like(w)\n",
    "    pn = numpy.empty_like(p)\n",
    "    \n",
    "    iterations = 0\n",
    "    \n",
    "    while l1norm > l1_target:\n",
    "        \n",
    "        wn = w.copy()\n",
    "        pn = p.copy()\n",
    "        \n",
    "        w[1:-1,1:-1] = .25 * (wn[1:-1,2:] + wn[1:-1, :-2] \\\n",
    "                              + wn[2:, 1:-1] + wn[:-2,1: -1])\n",
    "        \n",
    "        p[1:-1,1:-1] = .25 * (pn[1:-1,2:] + pn[1:-1, :-2] \\\n",
    "                              + pn[2:, 1:-1] + pn[:-2, 1:-1] + wn[1:-1,1:-1]*dy**2)\n",
    "        \n",
    "        #Boundary conditions\n",
    "        \n",
    "        w[1:-1,0]  = -1/(2*dy**2)*(8*p[1:-1,1] - p[1:-1,2])\n",
    "        w[1:-1,-1] = -1/(2*dy**2)*(8*p[1:-1,-2] - p[1:-1,-3])\n",
    "        w[0,1:-1]  = -1/(2*dy**2)*(8*p[1,1:-1] - p[2,1:-1])\n",
    "        w[-1,1:-1] = -1/(2*dy**2)*(8*p[-2,1:-1] - p[-3,1:-1])-3*u/dy\n",
    "        \n",
    "        l1norm = max(L1norm(w,wn),L1norm(p,pn))\n",
    "        \n",
    "        iterations += 1\n",
    "    #print(\"stokes flow took {} iterations\".format(iterations))   \n",
    "    return w,p\n",
    "    "
   ]
  },
  {
   "cell_type": "code",
   "execution_count": 5,
   "metadata": {
    "collapsed": false
   },
   "outputs": [
    {
     "name": "stdout",
     "output_type": "stream",
     "text": [
      "stokes flow took 4060 iterations\n"
     ]
    }
   ],
   "source": [
    "w,p = stokes(w1.copy(), p1.copy(),dy,u, l1_target)\n",
    "#print(\"stokes flow took {} iterations\".format(iterations))"
   ]
  },
  {
   "cell_type": "code",
   "execution_count": null,
   "metadata": {
    "collapsed": true
   },
   "outputs": [],
   "source": [
    "pyplot.figure(figsize = (8,6))\n",
    "pyplot.contour(x,y,p,10,cmap=cm.viridis)"
   ]
  }
 ],
 "metadata": {
  "anaconda-cloud": {},
  "kernelspec": {
   "display_name": "Python [default]",
   "language": "python",
   "name": "python3"
  },
  "language_info": {
   "codemirror_mode": {
    "name": "ipython",
    "version": 3
   },
   "file_extension": ".py",
   "mimetype": "text/x-python",
   "name": "python",
   "nbconvert_exporter": "python",
   "pygments_lexer": "ipython3",
   "version": "3.5.2"
  }
 },
 "nbformat": 4,
 "nbformat_minor": 1
}
