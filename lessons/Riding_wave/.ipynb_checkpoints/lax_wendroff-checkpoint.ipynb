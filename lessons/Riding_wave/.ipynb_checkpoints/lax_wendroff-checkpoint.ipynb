{
 "cells": [
  {
   "cell_type": "code",
   "execution_count": null,
   "metadata": {
    "collapsed": true
   },
   "outputs": [],
   "source": [
    "import numpy \n",
    "from matplotlib import pyplot, animation, rcParams\n",
    "%matplotlib inline\n",
    "rcParams['font.family'] = 'serif'\n",
    "rcParams['font.size'] = 16\n",
    "from IPython.display import HTML"
   ]
  },
  {
   "cell_type": "code",
   "execution_count": null,
   "metadata": {
    "collapsed": true
   },
   "outputs": [],
   "source": [
    "# parameters\n",
    "nx = 81      # number of x-intervals\n",
    "nt = 180      # number of time intervals\n",
    "sigma = 0.2  # CFL number\n",
    "c  = 1.      # wave speed\n",
    "dx = 4.0/(nx-1)\n",
    "dt = sigma * dx/c"
   ]
  },
  {
   "cell_type": "code",
   "execution_count": null,
   "metadata": {
    "collapsed": false
   },
   "outputs": [],
   "source": [
    "# initialization\n",
    "x =  numpy.arange(0,4+dx,dx)\n",
    "u =  numpy.zeros(nx)\n",
    "un = numpy.zeros(nx)\n",
    "u[0] = 1      # sets the LHS value to 1\n",
    "un[0] = 1\n",
    "\n",
    "# create initial plot lines        \n",
    "fig = pyplot.figure(figsize=(8,6))\n",
    "ax = pyplot.axes(xlim=(0, 4), ylim=(-0.5, 1.5))\n",
    "line1 = ax.plot([], [], color='#003366', ls='--', lw=3)[0]\n",
    "line2 = ax.plot([], [],'k-', lw=2)[0]\n",
    "ax.legend(['Computed', 'Analytical'])\n",
    "\n",
    "pyplot.xlabel('$x$')\n",
    "pyplot.ylabel('$u$')\n",
    "pyplot.title('nx='+str(nx)+', nt='+str(nt)+', dt='+str(round(dt, 2)), family='serif')\n",
    "\n",
    "def lax_wendroff(n):\n",
    "    un= u.copy()\n",
    "    for i in range(1,nx-1):\n",
    "        # Lax-Wendroff\n",
    "        u[i] = un[i]- sigma/2*(un[i+1]-un[i-1])+ sigma**2/2*( un[i+1]-2*un[i]+un[i-1] )\n",
    "    u[0] = 1.\n",
    "    line1.set_data(x, u)\n",
    "    line2.set_data(x, numpy.where(x < c*(n+1)*dt, numpy.ones(nx),numpy.zeros(nx) ) )\n",
    "    \n",
    "anim = animation.FuncAnimation(fig, lax_wendroff, frames=nt, interval=50)"
   ]
  },
  {
   "cell_type": "code",
   "execution_count": null,
   "metadata": {
    "collapsed": false
   },
   "outputs": [],
   "source": [
    "HTML(anim.to_html5_video())"
   ]
  }
 ],
 "metadata": {
  "kernelspec": {
   "display_name": "Python [Root]",
   "language": "python",
   "name": "Python [Root]"
  },
  "language_info": {
   "codemirror_mode": {
    "name": "ipython",
    "version": 3
   },
   "file_extension": ".py",
   "mimetype": "text/x-python",
   "name": "python",
   "nbconvert_exporter": "python",
   "pygments_lexer": "ipython3",
   "version": "3.5.2"
  }
 },
 "nbformat": 4,
 "nbformat_minor": 0
}
