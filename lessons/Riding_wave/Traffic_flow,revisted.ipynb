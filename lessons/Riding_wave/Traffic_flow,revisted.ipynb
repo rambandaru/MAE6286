{
 "cells": [
  {
   "cell_type": "code",
   "execution_count": 1,
   "metadata": {
    "collapsed": true
   },
   "outputs": [],
   "source": [
    "import sympy\n",
    "sympy.init_printing()\n",
    "\n",
    "(u_max, u_star, rho_max, rho_star, A,B) = sympy.symbols('u_max u_star rho_max rho_star A B')\n"
   ]
  },
  {
   "cell_type": "code",
   "execution_count": 2,
   "metadata": {
    "collapsed": false
   },
   "outputs": [],
   "source": [
    "eq1 = sympy.Eq( 0, u_max*rho_max*(1 - A*rho_max-B*rho_max**2) )\n",
    "eq2 = sympy.Eq( 0, u_max*(1 - 2*A*rho_star-3*B*rho_star**2) )\n",
    "eq3 = sympy.Eq( u_star, u_max*(1 - A*rho_star - B*rho_star**2) )"
   ]
  },
  {
   "cell_type": "code",
   "execution_count": 3,
   "metadata": {
    "collapsed": false
   },
   "outputs": [
    {
     "data": {
      "image/png": "[encoded data removed]",
      "text/latex": [
       "$$0 = \\rho_{max} u_{max} \\left(- A \\rho_{max} - B \\rho_{max}^{2} + 1\\right)$$"
      ],
      "text/plain": [
       "              ⎛                2    ⎞\n",
       "0 = ρₘₐₓ⋅uₘₐₓ⋅⎝-A⋅ρₘₐₓ - B⋅ρₘₐₓ  + 1⎠"
      ]
     },
     "execution_count": 3,
     "metadata": {},
     "output_type": "execute_result"
    }
   ],
   "source": [
    "eq1"
   ]
  },
  {
   "cell_type": "code",
   "execution_count": 4,
   "metadata": {
    "collapsed": false
   },
   "outputs": [
    {
     "data": {
      "image/png": "[encoded data removed]",
      "text/latex": [
       "$$0 = u_{max} \\left(- 2 A \\rho_{star} - 3 B \\rho_{star}^{2} + 1\\right)$$"
      ],
      "text/plain": [
       "         ⎛                      2    ⎞\n",
       "0 = uₘₐₓ⋅⎝-2⋅A⋅ρₛₜₐᵣ - 3⋅B⋅ρₛₜₐᵣ  + 1⎠"
      ]
     },
     "execution_count": 4,
     "metadata": {},
     "output_type": "execute_result"
    }
   ],
   "source": [
    "eq2"
   ]
  },
  {
   "cell_type": "code",
   "execution_count": 5,
   "metadata": {
    "collapsed": false
   },
   "outputs": [
    {
     "data": {
      "image/png": "[encoded data removed]",
      "text/latex": [
       "$$u_{star} = u_{max} \\left(- A \\rho_{star} - B \\rho_{star}^{2} + 1\\right)$$"
      ],
      "text/plain": [
       "             ⎛                  2    ⎞\n",
       "uₛₜₐᵣ = uₘₐₓ⋅⎝-A⋅ρₛₜₐᵣ - B⋅ρₛₜₐᵣ  + 1⎠"
      ]
     },
     "execution_count": 5,
     "metadata": {},
     "output_type": "execute_result"
    }
   ],
   "source": [
    "eq3"
   ]
  },
  {
   "cell_type": "code",
   "execution_count": 6,
   "metadata": {
    "collapsed": false
   },
   "outputs": [
    {
     "data": {
      "image/png": "[encoded data removed]",
      "text/latex": [
       "$$\\left(0 = u_{max} \\left(- 2 A \\rho_{star} - 3 B \\rho_{star}^{2} + 1\\right)\\right) - 3 \\left(u_{star} = u_{max} \\left(- A \\rho_{star} - B \\rho_{star}^{2} + 1\\right)\\right)$$"
      ],
      "text/plain": [
       "⎛         ⎛                      2    ⎞⎞     ⎛             ⎛                  \n",
       "⎝0 = uₘₐₓ⋅⎝-2⋅A⋅ρₛₜₐᵣ - 3⋅B⋅ρₛₜₐᵣ  + 1⎠⎠ - 3⋅⎝uₛₜₐᵣ = uₘₐₓ⋅⎝-A⋅ρₛₜₐᵣ - B⋅ρₛₜₐᵣ\n",
       "\n",
       "2    ⎞⎞\n",
       "  + 1⎠⎠"
      ]
     },
     "execution_count": 6,
     "metadata": {},
     "output_type": "execute_result"
    }
   ],
   "source": [
    "eq2 - 3*eq3"
   ]
  },
  {
   "cell_type": "code",
   "execution_count": 7,
   "metadata": {
    "collapsed": false
   },
   "outputs": [
    {
     "data": {
      "image/png": "[encoded data removed]",
      "text/latex": [
       "$$- 3 u_{star} = u_{max} \\left(- 2 A \\rho_{star} - 3 B \\rho_{star}^{2} + 1\\right) - 3 u_{max} \\left(- A \\rho_{star} - B \\rho_{star}^{2} + 1\\right)$$"
      ],
      "text/plain": [
       "                ⎛                      2    ⎞          ⎛                  2   \n",
       "-3⋅uₛₜₐᵣ = uₘₐₓ⋅⎝-2⋅A⋅ρₛₜₐᵣ - 3⋅B⋅ρₛₜₐᵣ  + 1⎠ - 3⋅uₘₐₓ⋅⎝-A⋅ρₛₜₐᵣ - B⋅ρₛₜₐᵣ  + \n",
       "\n",
       " ⎞\n",
       "1⎠"
      ]
     },
     "execution_count": 7,
     "metadata": {},
     "output_type": "execute_result"
    }
   ],
   "source": [
    "eq4 = sympy.Eq(eq2.lhs - 3*eq3.lhs, eq2.rhs - 3*eq3.rhs)\n",
    "eq4"
   ]
  },
  {
   "cell_type": "code",
   "execution_count": 8,
   "metadata": {
    "collapsed": false
   },
   "outputs": [
    {
     "data": {
      "image/png": "[encoded data removed]",
      "text/latex": [
       "$$3 u_{star} = - u_{max} \\left(A \\rho_{star} - 2\\right)$$"
      ],
      "text/plain": [
       "3⋅uₛₜₐᵣ = -uₘₐₓ⋅(A⋅ρₛₜₐᵣ - 2)"
      ]
     },
     "execution_count": 8,
     "metadata": {},
     "output_type": "execute_result"
    }
   ],
   "source": [
    "eq4.simplify()"
   ]
  },
  {
   "cell_type": "code",
   "execution_count": 9,
   "metadata": {
    "collapsed": false
   },
   "outputs": [
    {
     "data": {
      "image/png": "[encoded data removed]",
      "text/latex": [
       "$$- 3 u_{star} = u_{max} \\left(- 2 A \\rho_{star} - 3 B \\rho_{star}^{2} + 1\\right) - 3 u_{max} \\left(- A \\rho_{star} - B \\rho_{star}^{2} + 1\\right)$$"
      ],
      "text/plain": [
       "                ⎛                      2    ⎞          ⎛                  2   \n",
       "-3⋅uₛₜₐᵣ = uₘₐₓ⋅⎝-2⋅A⋅ρₛₜₐᵣ - 3⋅B⋅ρₛₜₐᵣ  + 1⎠ - 3⋅uₘₐₓ⋅⎝-A⋅ρₛₜₐᵣ - B⋅ρₛₜₐᵣ  + \n",
       "\n",
       " ⎞\n",
       "1⎠"
      ]
     },
     "execution_count": 9,
     "metadata": {},
     "output_type": "execute_result"
    }
   ],
   "source": [
    "eq4"
   ]
  },
  {
   "cell_type": "code",
   "execution_count": 10,
   "metadata": {
    "collapsed": false
   },
   "outputs": [
    {
     "data": {
      "image/png": "[encoded data removed]",
      "text/latex": [
       "$$- 3 u_{star} = A \\rho_{star} u_{max} - 2 u_{max}$$"
      ],
      "text/plain": [
       "-3⋅uₛₜₐᵣ = A⋅ρₛₜₐᵣ⋅uₘₐₓ - 2⋅uₘₐₓ"
      ]
     },
     "execution_count": 10,
     "metadata": {},
     "output_type": "execute_result"
    }
   ],
   "source": [
    "eq4.expand()"
   ]
  },
  {
   "cell_type": "code",
   "execution_count": 19,
   "metadata": {
    "collapsed": false
   },
   "outputs": [
    {
     "data": {
      "image/png": "[encoded data removed]",
      "text/latex": [
       "$$\\frac{1}{A u_{max}} \\left(2 u_{max} - 3 u_{star}\\right)$$"
      ],
      "text/plain": [
       "2⋅uₘₐₓ - 3⋅uₛₜₐᵣ\n",
       "────────────────\n",
       "     A⋅uₘₐₓ     "
      ]
     },
     "execution_count": 19,
     "metadata": {},
     "output_type": "execute_result"
    }
   ],
   "source": [
    "rho_sol = sympy.solve(eq4,rho_star)[0]\n",
    "rho_sol"
   ]
  },
  {
   "cell_type": "code",
   "execution_count": 20,
   "metadata": {
    "collapsed": false
   },
   "outputs": [
    {
     "data": {
      "image/png": "[encoded data removed]",
      "text/latex": [
       "$$\\frac{1}{\\rho_{max}^{2}} \\left(- A \\rho_{max} + 1\\right)$$"
      ],
      "text/plain": [
       "-A⋅ρₘₐₓ + 1\n",
       "───────────\n",
       "       2   \n",
       "   ρₘₐₓ    "
      ]
     },
     "execution_count": 20,
     "metadata": {},
     "output_type": "execute_result"
    }
   ],
   "source": [
    "B_sol = sympy.solve(eq1,B)[0]\n",
    "B_sol"
   ]
  },
  {
   "cell_type": "code",
   "execution_count": 21,
   "metadata": {
    "collapsed": false
   },
   "outputs": [
    {
     "data": {
      "image/png": "[encoded data removed]",
      "text/latex": [
       "$$0 = u_{max} \\left(1 - \\frac{1}{u_{max}} \\left(4 u_{max} - 6 u_{star}\\right) - \\frac{3 \\left(2 u_{max} - 3 u_{star}\\right)^{2}}{A^{2} \\rho_{max}^{2} u_{max}^{2}} \\left(- A \\rho_{max} + 1\\right)\\right)$$"
      ],
      "text/plain": [
       "         ⎛                                               2              ⎞\n",
       "         ⎜    2⋅(2⋅uₘₐₓ - 3⋅uₛₜₐᵣ)   3⋅(2⋅uₘₐₓ - 3⋅uₛₜₐᵣ) ⋅(-A⋅ρₘₐₓ + 1)⎟\n",
       "0 = uₘₐₓ⋅⎜1 - ──────────────────── - ───────────────────────────────────⎟\n",
       "         ⎜            uₘₐₓ                       2     2     2          ⎟\n",
       "         ⎝                                      A ⋅ρₘₐₓ ⋅uₘₐₓ           ⎠"
      ]
     },
     "execution_count": 21,
     "metadata": {},
     "output_type": "execute_result"
    }
   ],
   "source": [
    "quadA = eq2.subs([(rho_star, rho_sol), (B,B_sol)])\n",
    "quadA"
   ]
  },
  {
   "cell_type": "code",
   "execution_count": 22,
   "metadata": {
    "collapsed": false
   },
   "outputs": [
    {
     "data": {
      "image/png": "[encoded data removed]",
      "text/latex": [
       "$$- 3 u_{max} + 6 u_{star} + \\frac{3 \\left(2 u_{max} - 3 u_{star}\\right)^{2}}{A \\rho_{max} u_{max}} - \\frac{3 \\left(2 u_{max} - 3 u_{star}\\right)^{2}}{A^{2} \\rho_{max}^{2} u_{max}} = 0$$"
      ],
      "text/plain": [
       "                                        2                       2    \n",
       "                    3⋅(2⋅uₘₐₓ - 3⋅uₛₜₐᵣ)    3⋅(2⋅uₘₐₓ - 3⋅uₛₜₐᵣ)     \n",
       "-3⋅uₘₐₓ + 6⋅uₛₜₐᵣ + ───────────────────── - ───────────────────── = 0\n",
       "                         A⋅ρₘₐₓ⋅uₘₐₓ             2     2             \n",
       "                                                A ⋅ρₘₐₓ ⋅uₘₐₓ        "
      ]
     },
     "execution_count": 22,
     "metadata": {},
     "output_type": "execute_result"
    }
   ],
   "source": [
    "quadA.simplify()"
   ]
  },
  {
   "cell_type": "code",
   "execution_count": 23,
   "metadata": {
    "collapsed": true
   },
   "outputs": [],
   "source": [
    "A_sol = sympy.solve(quadA, A)"
   ]
  },
  {
   "cell_type": "code",
   "execution_count": 24,
   "metadata": {
    "collapsed": false
   },
   "outputs": [
    {
     "data": {
      "image/png": "[encoded data removed]",
      "text/latex": [
       "$$\\frac{1}{2 \\rho_{max} u_{max} \\left(u_{max} - 2 u_{star}\\right)} \\left(\\sqrt{- u_{star} \\left(4 u_{max} - 9 u_{star}\\right)} \\left(- 2 u_{max} + 3 u_{star}\\right) + \\left(2 u_{max} - 3 u_{star}\\right)^{2}\\right)$$"
      ],
      "text/plain": [
       "  ___________________________                                         2\n",
       "╲╱ -uₛₜₐᵣ⋅(4⋅uₘₐₓ - 9⋅uₛₜₐᵣ) ⋅(-2⋅uₘₐₓ + 3⋅uₛₜₐᵣ) + (2⋅uₘₐₓ - 3⋅uₛₜₐᵣ) \n",
       "───────────────────────────────────────────────────────────────────────\n",
       "                      2⋅ρₘₐₓ⋅uₘₐₓ⋅(uₘₐₓ - 2⋅uₛₜₐᵣ)                     "
      ]
     },
     "execution_count": 24,
     "metadata": {},
     "output_type": "execute_result"
    }
   ],
   "source": [
    "A_sol[0]"
   ]
  },
  {
   "cell_type": "code",
   "execution_count": 25,
   "metadata": {
    "collapsed": false
   },
   "outputs": [
    {
     "data": {
      "image/png": "[encoded data removed]",
      "text/latex": [
       "$$\\frac{1}{2 \\rho_{max} u_{max} \\left(u_{max} - 2 u_{star}\\right)} \\left(2 u_{max} - 3 u_{star}\\right) \\left(2 u_{max} - 3 u_{star} + \\sqrt{- u_{star} \\left(4 u_{max} - 9 u_{star}\\right)}\\right)$$"
      ],
      "text/plain": [
       "                   ⎛                     ___________________________⎞\n",
       "(2⋅uₘₐₓ - 3⋅uₛₜₐᵣ)⋅⎝2⋅uₘₐₓ - 3⋅uₛₜₐᵣ + ╲╱ -uₛₜₐᵣ⋅(4⋅uₘₐₓ - 9⋅uₛₜₐᵣ) ⎠\n",
       "─────────────────────────────────────────────────────────────────────\n",
       "                     2⋅ρₘₐₓ⋅uₘₐₓ⋅(uₘₐₓ - 2⋅uₛₜₐᵣ)                    "
      ]
     },
     "execution_count": 25,
     "metadata": {},
     "output_type": "execute_result"
    }
   ],
   "source": [
    "A_sol[1]"
   ]
  },
  {
   "cell_type": "code",
   "execution_count": 26,
   "metadata": {
    "collapsed": false
   },
   "outputs": [
    {
     "data": {
      "image/png": "[encoded data removed]",
      "text/latex": [
       "$$-0.0171107219255619$$"
      ],
      "text/plain": [
       "-0.0171107219255619"
      ]
     },
     "execution_count": 26,
     "metadata": {},
     "output_type": "execute_result"
    }
   ],
   "source": [
    "aval_a = A_sol[0].evalf(subs={u_star: 0.7, u_max:1.0, rho_max:10.0} )\n",
    "aval_a"
   ]
  },
  {
   "cell_type": "code",
   "execution_count": 28,
   "metadata": {
    "collapsed": false
   },
   "outputs": [
    {
     "data": {
      "image/png": "[encoded data removed]",
      "text/latex": [
       "$$0.0146107219255619$$"
      ],
      "text/plain": [
       "0.0146107219255619"
      ]
     },
     "execution_count": 28,
     "metadata": {},
     "output_type": "execute_result"
    }
   ],
   "source": [
    "aval_b = A_sol[1].evalf(subs={u_star: 0.7, u_max:1.0, rho_max:10.0} )\n",
    "aval_b"
   ]
  },
  {
   "cell_type": "code",
   "execution_count": 30,
   "metadata": {
    "collapsed": false
   },
   "outputs": [],
   "source": [
    "if aval_a > aval_b:\n",
    "    aval = aval_a\n",
    "else:\n",
    "    aval = aval_b\n"
   ]
  },
  {
   "cell_type": "code",
   "execution_count": 31,
   "metadata": {
    "collapsed": false
   },
   "outputs": [
    {
     "data": {
      "image/png": "[encoded data removed]",
      "text/latex": [
       "$$0.0146107219255619$$"
      ],
      "text/plain": [
       "0.0146107219255619"
      ]
     },
     "execution_count": 31,
     "metadata": {},
     "output_type": "execute_result"
    }
   ],
   "source": [
    "aval"
   ]
  },
  {
   "cell_type": "code",
   "execution_count": 32,
   "metadata": {
    "collapsed": false
   },
   "outputs": [
    {
     "data": {
      "image/png": "[encoded data removed]",
      "text/latex": [
       "$$0.00853892780744381$$"
      ],
      "text/plain": [
       "0.00853892780744381"
      ]
     },
     "execution_count": 32,
     "metadata": {},
     "output_type": "execute_result"
    }
   ],
   "source": [
    "bval = B_sol.evalf(subs={rho_max:10.0, A:aval} )\n",
    "bval"
   ]
  },
  {
   "cell_type": "code",
   "execution_count": 33,
   "metadata": {
    "collapsed": true
   },
   "outputs": [],
   "source": [
    "sympy.init_printing(use_latex=False)"
   ]
  },
  {
   "cell_type": "markdown",
   "metadata": {},
   "source": [
    "## Green Light: take 2"
   ]
  },
  {
   "cell_type": "code",
   "execution_count": 34,
   "metadata": {
    "collapsed": true
   },
   "outputs": [],
   "source": [
    "rho_max = 10.\n",
    "u_max = 1."
   ]
  },
  {
   "cell_type": "code",
   "execution_count": 35,
   "metadata": {
    "collapsed": true
   },
   "outputs": [],
   "source": [
    "def computeF(u_max, rho, aval, bval):\n",
    "    return u_max*rho*(1 - aval*rho-bval*rho**2)"
   ]
  },
  {
   "cell_type": "code",
   "execution_count": 36,
   "metadata": {
    "collapsed": true
   },
   "outputs": [],
   "source": [
    "import numpy\n",
    "from matplotlib import pyplot\n",
    "%matplotlib inline\n",
    "from matplotlib import rcParams\n",
    "rcParams['font.family'] = 'serif'\n",
    "rcParams['font.size'] = 16"
   ]
  },
  {
   "cell_type": "code",
   "execution_count": 37,
   "metadata": {
    "collapsed": true
   },
   "outputs": [],
   "source": [
    "def rho_green_light(nx, rho_light):\n",
    "   \n",
    "    rho_initial = numpy.arange(nx)*2./nx*rho_light  # Before stoplight\n",
    "    rho_initial[int((nx-1)/2):] = 0\n",
    "    \n",
    "    return rho_initial"
   ]
  },
  {
   "cell_type": "code",
   "execution_count": 38,
   "metadata": {
    "collapsed": true
   },
   "outputs": [],
   "source": [
    "nx = 81\n",
    "nt = 30\n",
    "dx = 4.0/(nx-1)\n",
    "\n",
    "x = numpy.linspace(0,4,nx)\n",
    "\n",
    "rho_light = 5.5"
   ]
  },
  {
   "cell_type": "code",
   "execution_count": 39,
   "metadata": {
    "collapsed": true
   },
   "outputs": [],
   "source": [
    "rho_initial = rho_green_light(nx, rho_light)"
   ]
  },
  {
   "cell_type": "code",
   "execution_count": 40,
   "metadata": {
    "collapsed": false
   },
   "outputs": [
    {
     "data": {
      "image/png": "[encoded data removed]",
      "text/plain": [
       "<matplotlib.figure.Figure at 0x7f33589247f0>"
      ]
     },
     "metadata": {},
     "output_type": "display_data"
    }
   ],
   "source": [
    "pyplot.plot(x, rho_initial, color='#003366', ls='-', lw=3)\n",
    "pyplot.ylim(-0.5,11.);"
   ]
  },
  {
   "cell_type": "code",
   "execution_count": 41,
   "metadata": {
    "collapsed": true
   },
   "outputs": [],
   "source": [
    "def ftbs(rho, nt, dt, dx, rho_max, u_max):\n",
    "    \n",
    "    #initialize our results array with dimensions nt by nx\n",
    "    rho_n = numpy.zeros((nt,len(rho))) \n",
    "    \n",
    "    #copy the initial u array into each row of our new array\n",
    "    rho_n[0,:] = rho.copy()              \n",
    "    \n",
    "    for t in range(1,nt):\n",
    "        F = computeF(u_max, rho, aval, bval)\n",
    "        rho_n[t,1:] = rho[1:] - dt/dx*(F[1:]-F[:-1])\n",
    "        rho_n[t,0] = rho[0]\n",
    "        rho_n[t,-1] = rho[-1]\n",
    "        rho = rho_n[t].copy()\n",
    "\n",
    "    return rho_n"
   ]
  },
  {
   "cell_type": "code",
   "execution_count": 42,
   "metadata": {
    "collapsed": true
   },
   "outputs": [],
   "source": [
    "sigma = 1.\n",
    "dt = sigma*dx/u_max\n",
    "\n",
    "rho_n = ftbs(rho_initial, nt, dt, dx, rho_max, u_max)"
   ]
  },
  {
   "cell_type": "code",
   "execution_count": 43,
   "metadata": {
    "collapsed": true
   },
   "outputs": [],
   "source": [
    "from matplotlib import animation\n",
    "from IPython.display import HTML"
   ]
  },
  {
   "cell_type": "code",
   "execution_count": 44,
   "metadata": {
    "collapsed": false
   },
   "outputs": [
    {
     "data": {
      "image/png": "[encoded data removed]",
      "text/plain": [
       "<matplotlib.figure.Figure at 0x7f3333bf7b70>"
      ]
     },
     "metadata": {},
     "output_type": "display_data"
    }
   ],
   "source": [
    "fig = pyplot.figure();\n",
    "ax = pyplot.axes(xlim=(0,4),ylim=(-1,8),xlabel=('Distance'),ylabel=('Traffic density'));\n",
    "line, = ax.plot([],[],color='#003366', lw=2);\n",
    "\n",
    "def animate(data):\n",
    "    x = numpy.linspace(0,4,nx)\n",
    "    y = data\n",
    "    line.set_data(x,y)\n",
    "    return line,\n",
    "\n",
    "anim = animation.FuncAnimation(fig, animate, frames=rho_n, interval=50)"
   ]
  },
  {
   "cell_type": "code",
   "execution_count": 45,
   "metadata": {
    "collapsed": false
   },
   "outputs": [
    {
     "data": {
      "text/html": [
       "<video width=\"432.0\" height=\"288.0\" controls autoplay loop>\n",
       "  <source type=\"video/mp4\" src=\"data:video/mp4;base64,AAAAHGZ0eXBNNFYgAAACAGlzb21pc28yYXZjMQAAAAhmcmVlAAA41W1kYXQAAAKuBgX//6rcRem9\n",
       "5tlIt5Ys2CDZI+7veDI2NCAtIGNvcmUgMTQ4IHIyNjQzIDVjNjU3MDQgLSBILjI2NC9NUEVHLTQg\n",
       "QVZDIGNvZGVjIC0gQ29weWxlZnQgMjAwMy0yMDE1IC0gaHR0cDovL3d3dy52aWRlb2xhbi5vcmcv\n",
       "eDI2NC5odG1sIC0gb3B0aW9uczogY2FiYWM9MSByZWY9MyBkZWJsb2NrPTE6MDowIGFuYWx5c2U9\n",
       "MHgzOjB4MTEzIG1lPWhleCBzdWJtZT03IHBzeT0xIHBzeV9yZD0xLjAwOjAuMDAgbWl4ZWRfcmVm\n",
       "PTEgbWVfcmFuZ2U9MTYgY2hyb21hX21lPTEgdHJlbGxpcz0xIDh4OGRjdD0xIGNxbT0wIGRlYWR6\n",
       "b25lPTIxLDExIGZhc3RfcHNraXA9MSBjaHJvbWFfcXBfb2Zmc2V0PS0yIHRocmVhZHM9OSBsb29r\n",
       "YWhlYWRfdGhyZWFkcz0xIHNsaWNlZF90aHJlYWRzPTAgbnI9MCBkZWNpbWF0ZT0xIGludGVybGFj\n",
       "ZWQ9MCBibHVyYXlfY29tcGF0PTAgY29uc3RyYWluZWRfaW50cmE9MCBiZnJhbWVzPTMgYl9weXJh\n",
       "bWlkPTIgYl9hZGFwdD0xIGJfYmlhcz0wIGRpcmVjdD0xIHdlaWdodGI9MSBvcGVuX2dvcD0wIHdl\n",
       "aWdodHA9MiBrZXlpbnQ9MjUwIGtleWludF9taW49MjAgc2NlbmVjdXQ9NDAgaW50cmFfcmVmcmVz\n",
       "aD0wIHJjX2xvb2thaGVhZD00MCByYz1jcmYgbWJ0cmVlPTEgY3JmPTIzLjAgcWNvbXA9MC42MCBx\n",
       "cG1pbj0wIHFwbWF4PTY5IHFwc3RlcD00IGlwX3JhdGlvPTEuNDAgYXE9MToxLjAwAIAAABdfZYiE\n",
       "ADf//vbw/gU2O5jQlxHN6J0zH78VuLo0N73OAAADAAA33SONum9hL4gEvcA9go26ugmDQqjIxe/F\n",
       "/78+Wq1elnGww/vfI1mVy+rXORGAwO/1b+2LmQeaQGVFbjVEbo4hC2JdjMT7OObQZwBXuCEPU/+b\n",
       "O6/f8dzsQA9g8WDBksQvI6Lce3MS/0AMBv57kEWp+SsZdOIJCMlbRNowywXRzcN/dUqbatKTJzGc\n",
       "1DUuW+g9PdoS2tNPIBjY6afg93zyKtSXxfeWb8gcsA5Yauj7kbXD7EG3dnpgOryZEuRErdiLxR5C\n",
       "ICiXAgzjrFdiq5BGR/HEETAgL2OKIa+JF8bNZ1UEXXFX/7LvyWnafrFpA5ryKpJ2OLuJHzbyfrfL\n",
       "ZDpbkLMI6PMtvB3d6PFXDv6E9V986JgkoA0jIxiKLQQEYaHFDVURpRAYys6zpRWndo1KULVepywt\n",
       "Pf9+rwlCs1wKsbpILpasGyYshUHRZ0IAwyujfR9uAdRFBStN8ML9XdibA6nKuWEqu9wBkI81Q9OO\n",
       "oyMeYr5rpzYgwd6bQ46WiXvPFcb1pwbuDgoJfZA/cMWyn9gyYio1/tInq/+a2lP4E1VN9wWPF4BR\n",
       "zBw8LiBFfMTRIR+E0idT8uLR5sBudg5jb7rTLNyGIivsZeqcaoKKvSbCReTk7gqkl3Fa1HD3i38D\n",
       "WpCkkKDnJuT4AyafJ7iaIgNoYtJFwpgPOlLjurGaU1S8AirSNe+qndI346+ygHfHQ1cWw2Y0vV2m\n",
       "H769iIC0LMoEYUEMkgirr3M4TfnDRO5/6U1yF/lXkGYD+UqLYALJE/1XKTQUP+1MpflVujgMz7xy\n",
       "DubZHxabuVMALRhLb9Ju8cVzkxNBLzrGuiuETrqXkueASB9yPWlvVpVX4FqLntAAFWiK1TurgDb4\n",
       "8c06MnbSvwXBD/u78coDgVotTWtgc5UqczT84ftr5xK7KRTPR6Utoo7hUEsg71dFx7X3QhTRDWFP\n",
       "/mPybvaPEyWvEvEJnUBrCVS3qLCMZt+8Mk0tiZpMex1vpEzMo6m74jH/8OC8YZb3Lp0j49jqo6m6\n",
       "t64kVjlpqYarVXszoG0B4aayKXP8iym0QMkHwW4nXsvA/XYybRfFyjc427v9EZCuwNrtRrHhV5eW\n",
       "Nrb9bYZ2bUAiTdED1/vBL8nqqtkXjdK1vNDpF1cnPRzR5B3Xgk/RWlZaUbETrCy1VA7YD/9OYn6I\n",
       "VmaUFmJZ5TBz/kiddSSKz2V4G5u5FhIqfsSh/WWKbSkPm8PHjRqbDfcRW6JbQkvHPNbqMyAt1arh\n",
       "F5ui5hIavHmVaLbYnJhSfxXHED56JsNViFmubfO1ssbMi0JL0Leiyu7i77NgtQkCO9b5+V49MiE0\n",
       "UnrVBi7DrJCKMbcP5TQmyDct12sG+K4Y5hZYYlWuBUEwYCY6KX4Jg2tm6UMHYPvudgudK2QgCoiU\n",
       "yCNNvB6xZ141VebayST+fZPcQi1EGY5soH+bbKjvK142EZWqPMML2VibcipSRYqUeOY4WyAnkwQA\n",
       "rd1c/E7drO5pLG5vICPc6hLzVTuOBKNSPj/gjisLx7iByfjHqgCLi5bBnOccJ+PrhJRDTVvHlzae\n",
       "QQGflXJCXbiuP2r873DOSR6tpUm+ei2vs8mr0rWVlguo4jqrOQKMLAEb/t0fRcdbSmhDPE9yvH4+\n",
       "Mn2VcEzUbS2NQaTIwBpChXzBeTNpG+ongfZcB87Tvg0Q0wKiAOzKl0sVHh1jMw6ReO0mE49dZ5xb\n",
       "H6MB+UAlhsA0fZa6UrWykW4GnbxcbM6S0rtpy0b1pc2O0VrzfCF+CONZKHItWEazEjVokp/IYNSF\n",
       "jDK0nlAteEjYB+rpn6+xRfo9QVakpeoLmxWvTAzs0xpSVtMSf6QB3KANbMGmV/31paQEL5PCL/xF\n",
       "H1TjIVCwUwk2hZw6xg9IpuEYvL1J7/zqAOLANMC35Y4T9CcZXk1Ar/O++Xugj939EDLn90rz+LXX\n",
       "acfwKML/UquMheoRrbhUMXckBbIyRvf5i6eP0Cmc7UC6qp1Ml8EuKsx4+YTW95saSTwGErmJwKdq\n",
       "y8LQ7WL6xXmojjCd+h9HOVOaHEmmPxtuS19SCMfZwj4MO2hMlTTv1zF1pWvqLg44mXOtw5W7FFRP\n",
       "xK7sV4tf4Tb8MuCKr7au/GrIb2Zx5KNroamUPNitiaO9ivTaRokNywfOpGsEFT/8Nd4yQnh0n6zO\n",
       "ll9kLN5NrkjKrpa37C5kQDLX7ro5Rgzm0OwEgV1pydAmDVZUPJmVxVYYgrSD3wAo5VuRt7gJ8+bQ\n",
       "vtFzML/dTnmpHdyDlsiLv6N6gEgK6/VaeG2XsNRm15C9hIbEnpYLw/qXbJymXPKRDLabO6YyH50L\n",
       "mtBzvYi5Z3eYdOs943GjmpOsE6gnWMEHmyWRsHcc1+GTcjNEKRI6UGJ/h8Dum5Qx8pHFnqC7I8Oc\n",
       "xzNamIvS1p87EXFnM+n5rkevjWvrzagriu42XWoE7UMzwBaEqHC0rwWEn9nOpTxQzc0OK3gFdeec\n",
       "CuKjRYbzQ6swqdqN+fApFoym6DOhN223qoaaLeKF3PCgUt8DxY6DmwwVzprmb3yHZXnAjQxWEZZ6\n",
       "q1N3kEqKGvBAwJ3anmYdnlScQeEMArrPqAyt671BXhZmP9njwXxAO4I6jG8LlBWFzD/iPniETKe1\n",
       "p0LE+09JqiR1QBze8xR1x6fhKcfCfexhWZ3eg0KAmOdIctARLfZ99d80sQn8XtE8GzkX0Xg1V63L\n",
       "YWj6EJayaBovu9ZPXPOQKX+2clMfLBa4coaQlnHqNDi3SWRyMJXwlvsRLz5gOe6yb6iKUe7CwIzf\n",
       "ht7JJUFkgXocumXOgYQkBnsMNC/mnHiC54gGEDWy4QwrejyoFbegutQAerkLgtCqFzu9aCCTXXhe\n",
       "J02mEf9bA9QuDKWOAwk7b3zMv4nO7uCinZMJwLvw0TPB55YqxYygGLci9rAjXm6AShMvgdg5ZLia\n",
       "+LwQTQ+MMcFnHIi14RKo64pOomEF//pr8KBr4IfwGzmWR5zcfr9aqsb8qfYY+uGotL917QkCjsR7\n",
       "ydLyjEWx96s9Pa8id62METynGrX1nUCwQC+qXyzGKrDw0p5g2R0Hk73+6lChHTKIx/vHbHIKYBlv\n",
       "bsVWhj/hDQKUDq/jMFBXQeWBJRb5S/2BnnuciX6ICVE5VeTHOjVEHg1e2bVxIECn/892QyVyP01a\n",
       "dJhHE8qEnUByI578xmKkMp5CuIvLtkEhdlHymYSXAKwnIFLCNTHsHp7b7zylEGwaEYz3EHNI/MZG\n",
       "OrTZg6xK3IipZV9g7qiW2l6XO+UgkiyXjhPWAf8vpZHg+X9sgnlUmaTMrjByAPgKohpfJT8qvo3B\n",
       "hL54wTBiH1K8Z46b1E+LtH//O0/AVWvR0Fsd44ZRktHGNj3XevpfyW1G3LgOwTDXYO9OToTHkHlD\n",
       "G05CQ9Wo4Ky+xNm1uRS/31vyRztUqNadz+6s7y9nClQi6KaYeEVFnO1PGxRZcwkDPrfkHRd/oENL\n",
       "S/mg9MNBiCHZJ2GI356TnR7e3Lr42Kk7GsF10g14OY6857eB2jnfROcQWVq6ZIR5UyQ8sITZF5xZ\n",
       "jROirywMDoDA933OlqKPGTEwybfFgHUc/C8JY4K13dXNlnJq4FAUV2IQOMvnt1ttwEZ5lexx8hLK\n",
       "JyUBgclzfpE8MW6wWNtEjcjZ/ietrcGfVz4TJDSNNXRXrvg1BWMyf2TIhyuAuL1UL9t18IW0GU1F\n",
       "AxAF4PhtVtdziQVA8IiK/R7vuG/P7C4eMKm03DN2DGjeOgJ6U+9IxiYefk2XqAHvcmCbyLbM5LxT\n",
       "rKNcsM7mWMjGhT5k6s7rpyzo7z5aav6QJZTBTxKvi/W1GjCcBxT+lAGovHWoKCqBOnTq9GYVomf4\n",
       "3Fsk4g0PF1b+gzKJRLKQj5cMl+DH5Gg5mcpei5l3h9AqoODDZK9BedBWFNGljM7tgi2Ett/UoW0K\n",
       "jkL4F//1nFjqBsTdBmwRs/x2fHsZNlzRAhgRCLeY2NFOAYFVuBooDfmy5sFA9t7nV3+g8uRdxi1t\n",
       "yoRZJCeghJ8OEDVsAnMN3IfrmXbEc7I0DIdXhSECaoORH0FNLkW17S4H/scnow+DsOIru+YSDXRu\n",
       "be9+0BTnYuhkMeKkKLCqCcsprSUM3f7pR+pgaxIyrtHqENnCNl7OmmzQ6PqzQRG4ZGx7xWSLFGGh\n",
       "Yw1AMZLqUVIFFgTHg6+zedwZTl6eXCIkXRf4F5Wb6gyYlXWTtRKYFjOk7+el4AVq16lw6B3Fulzo\n",
       "oZK8jGmu1kN1D4hAluqG1fiB2cYKQgBQJnap+xm3OYfKkZjqfirY6IEL+++M3rsWhFzLDCew0sxU\n",
       "YmZwX/rEqUSmN2zoo7m1cJXazz6r5Xk+hXU673xgAFDf5SNuA1xEiCi/rBmgdggg18j42cC1yIMn\n",
       "xkmYIsWgr+Hv1y4gheWuyAGSllkVkKUCfQthKZfoZQOrE7CUgOLA52v78geNk5R+cH6WdnRyo4bh\n",
       "he/RM/Y4Cu2l5Iac9nNeXIiwqUL3G5JZmJTSg8goGBeIhjxDBXOaR8sjdH84UocDYzgJ4fdnhSPz\n",
       "dxaUYiHF9/V1bbOH4zrxs7oQAKopyAVVsJfP/HPuoxNkCZLEvdY61JfVNffCO3n32aENruJkRQip\n",
       "0nvEny99Dwlf+GmLKQ/RRtNAWq412aaaohzm7jhi+BtsGtV9+5rt4teu6FQKqWWpcS4FFyI8FzQh\n",
       "T3fvh5sgcfvw3RDyNoNMD20QJ/iHY/L4VZWZUn+q3bP3wsY+KooD+HzOAIf3z7y+Ajf858hi3tCl\n",
       "K88PN2VllprQhyeby/WoAxggrV4sRvbmB4NTWbxtjRwSk85XE2mS75e/+Xe3medHNy24+UwjxgfL\n",
       "HjbMmrAmWWeBPzFqb9jIqn3dyZjXhLZjyytfXPtOvWe+xpa5CZOhtspumW2xDEu+CfkKX4CaDht4\n",
       "n0NBI5xBwjgchMFzejsoH8zlVqr8jMzdKzWujpx9UK1tgLmQn498oTormb6kJ+FlReg6h27gafsy\n",
       "Ak4Qo9Ej/10nV65+mTCuC9loSONCZan6mNR3JBHavyTtzFW1SfodQBC76VVcY0kpsRf2fDEaj8s2\n",
       "X9WBGwHYzK7/lAd/edfudGP4w8nVveONd4YZ2LNxwSXrIzHfW8sU60TjXycjdpj8MORrMTNMYkY8\n",
       "rWjHgz6ql5q42+nSJf24X+CkDci7E2Be+u59N7GozY0dQOVHiMbQ1iVRnxAEB2BwfQ401s352d+j\n",
       "QWvWmK1nwIqymGRM1Sq7YgrPmtG/xnffOjwo25MWAbM7FdJkayR33tbzIZHUHNe+6dnOf8r9IhEz\n",
       "7ZZ5v4Rg3v30LY/CvufM3EmhFHdoI+Noh/dbggJxXgNwPiya1FC2o1I7r2qBNV2PypG1O3iVZTt5\n",
       "3J13v3Oht0BQU4/0iS6uUfXFDZGR4On2/vfobEOn6JQlTt1Z9EkScq1bo2foPTnUtTP3eJEvPMAG\n",
       "qD9xuFLyfgikUmkn9RHBypdnWLM6a8zO/HN3aQ3SzxVui6sL8qM59qw6thrhfv2w8nK0RcxBBoyd\n",
       "Ygku8XE0as6+lOMqLIVQj9MpaXnnIvRiWRWgcrPcyLlDyJDf7c2UvzY1PLWK+qxPDjJJ0zRw/E1Y\n",
       "1XvYfGa+TjJBvibQ7MuC0Ur4fxT8LF2h5Q/S59JCKTdTBVffwE69gEq7EbQMoxACqsobu/N7tZdk\n",
       "MtEBQJT/Wlb9qk8fSOuKK/Q8b1kDCM5uItSen4XKPJC0pHzDbT8oqUwO9/uNCZlHFV77MiBdjMfd\n",
       "sWC8JEUQF0YfJmZJFAfyoTZqlBXP7PiJZrREH9ka83T6RLCYC9k3eSawMvXnn48jpBAWZWnVcj0c\n",
       "T0hPRVBD6YQxOptYWdyHHFnoEZGRh9Ou79a6TMD2LuXDWsYqdMpUvSK0V/r4yqhNrZcW16knJAbO\n",
       "tNx65VyCLo1CrB+C4KKBGqnsbIf9mS2olDboHSn8BFICIM3yZEkVaLZlYTs482umABr784Hprp2Y\n",
       "IBQMq8Zwy9oegy1XWVAoqwq7AGkvE/7BQcNmzw9fMgOv9xCYhMdLNiAf/fpCYvhe5LR0bR7F5FHZ\n",
       "6pfaG7kNGtPXveP6k59sjxAsSRTjhtkbCnrJJfgH5uDMUzCgCqp4OjLcYxvb4R6002wXL8wEr7kl\n",
       "gb+NNZEYqs/qymoW5Gixixun1QKSDbk/KmG0vvtbYhW3irCM7B/rdmj3g+RWZC5O/rVTHRFiRPqe\n",
       "6o23i845Xfv8xb53a698/n7BpvSs905/SsL2Ptqk1hZ11xyHP1zFcH6wwZMCTXtXaEvJ1dmr34Hp\n",
       "SLo9+vvKptPmGW2Mzp6o5fSRX3IY+ViQFKD9CW32tn5E7RTC/A57+YCNzOiCCzZXT+UWt8lzvnHX\n",
       "7s4ulnuDoUKTvc2HRxZMH/2fPj8sIU/FexdL2M/zRyEpxrskXTlQg03XsigTbbJjxOH48hL+o0uQ\n",
       "3p1C9AauCrAzjw/8wL0VE7njLgum0JwTP2wz5fw/Ku5wY2GCvJ6rfD+FRbi/0UUDBaPKZRzcvL7Y\n",
       "2a395cbIzzrODtwsHww5vThM2MAT9X+S6+mK7trhycK1f1Howkpn4tFXnot16MxCbc6yAJ+8M/Mg\n",
       "rh6ei7nJu8yDtggpopfsLvsTu8V/xLR5jxGL3xhzP4dgtVzYJWomyal4tM86XGIqWEk9cIAHsIyU\n",
       "EpNF9GznmYvEkVz3vrTtPa/etCzWfzru0T9m5Odfbamtv/1BU9XvlpnEaqQlDtv31txaqqgYJHr/\n",
       "p9XMtpfeKaa1UMZei1QAvI/tWNd4n9t3NQ4SIR/qVuVM1JPoUaAF9lxcKSpP6a+5BSWyV+cydKtD\n",
       "fJXKvThcvYg8gtUrg7qAp+LSUEbUBnKa725vS4ATEbS83MqzHWsvvvBswfKnrtIc6+Bt2Uyo1mqt\n",
       "+2g14sVnLhoZykofJ1MdRXG1dgRE8mxpYAt7qvMfJcFmhS0qQedXrDdheAljw5Iin78rsBnnhSWI\n",
       "VfWN1gXfVx6afQYg5K61SB/PJoVX/DCimGZa1UdhMy0vuMQILab1b4PI8Io46sTlYPi6lxSUbpQg\n",
       "BN2v+8dIgqQY3TTMG5Yx/CK7ArUHFhOoCK+fUb7dJA2rX90Cm//JZk5QOcbL5tUpOXBvJy21+NRg\n",
       "SVxwuKnEmk3MAIjJU7ghopwU3NGzAy0eif9V2/7fLQ0vLpQdKf9TQv9vx2QGwlq8b02FMRVA0ZY9\n",
       "lf+5Yt6CX70jyXat+nmF4vr9HldwK6YBH8lEaMaGh5ckkBUamuLC+BsEyWlKZL2C3EynZpn6D17+\n",
       "A2r8DQrcgBBvNWb6+///JegZZrbmoleHFCmn4VQHmq/972K5eB1u2EX6L2Q22Rw8XY9mg5aeoMRu\n",
       "9/Ilq7mO0ShF/Du7s9guWP+hQuuyi3qKj1htLHLpGGNLhO9lTAU3ByCR5u/UaqYH3Vc07LEhgm7U\n",
       "uGQS6xH5sJ+hkIrmZGAgAZU60H4ja30PUeOIoIw4N0lpYnBqfn5HpB/gKWd5VfHPsYZZ1w0VjFy2\n",
       "OZY/L4DMc6rVGattaHp4W3JVhxH8e2EdXs/B2OfJaXSJOYVjrteelQ913APKXBtB5eDhu7AE5gxt\n",
       "cLM/exRUZEt5KRanpLa6+XJ70y0fV0ivGz+Rp4lzv+neX2lErb7QKb+MEy6UX93gqVAWFF8BbG9G\n",
       "K084mg+d8jqm5+Td+EISbfBNUi8ewAMc4+WOWVjH6jUvkn7+0U7foiyD1VrikKPHwJOuGxMm6ZSS\n",
       "/EDfAYhxTraUY/j9UnCkzkN0Rkf9D8TZ9ZgDoINnCBxpuWNdY2sIOq0U8a0TCoV0vI/Ak/EharBk\n",
       "zNun7dqUXK5rmgY+ua4nT5OhnsnyALzXeUkpX9CbR+vhKn9VnfpyFwCuZIXCbRIfj7suocdUEoiw\n",
       "b4QjLUVlzpsuT3U1A79SqCqAIVlp4uQdmswM5kTP9xZAjrAhdyx9jUIjNtwsTfjIONhvWwAAAjVB\n",
       "miFsQ7/+qZYTAM9AEI64X3I8GTaaS5l8+cLFKeV0edfwThXoBTGfxNbS/U1umX497T5OKnYfmPMH\n",
       "OzxBDQM7LLZHn+g+FLdLG12XKTfFfuBs1T5CWjY9/yUtXajvl/geqHkdhTkUeZWZj4ZtPxvoj///\n",
       "Qx9A1vRvLzma5JxFICZdyLrxJmVhkk1XTbXdZX+B1Zd6c8KOYh9vzw0p8fTkdZvvRnyk+6f1pdWl\n",
       "ycxIcNbOeRR6TbxBYnwoE6/BT6O7MUfXA6FgUYXF8UDYAbPnxjQnHzLBbzJ2spIWFSIaqgYzf3Z0\n",
       "4T623lT6UwZeJMmgFruQJfUrLcg2mZOR/RWWmuCtk5iolwEPlFzfJeCoP2QQ6Gru49tG1580xmyR\n",
       "95rypjTEPABN/F/d/IcMnTCGg36+3t4hYEkx7MD+avTnKIkGUUd4uv3rpGQUwuGkrwJAM/tWCep8\n",
       "YdlxXiX/5+ayRwsoHLrcAcjxsDVDYbAem/dYgNC6RmIqVv+hq8AuzRGkQVJg4a9MyDhOix9mZLb4\n",
       "87P1TQb3XDRiENwTq72//9mVegH7q/FhxEH/HNaa+Bum0SCD7Op297hdz9SXOIJv0AGe8C9zu473\n",
       "oG8t/couDvVtZXmGYPpRivs9yy0X2Qt12OvL/jmYzF3ZVezIoUlLfTBqU21PwSztg3bntRNNyQoi\n",
       "Ea2z2jYcizzMqqI1zTQ/nN72I5ARYQEZMlVNpi7CzjZQU8p0gsrVzfEEIlomadnQpoiAAAABhkGa\n",
       "QjwhkymEO//+qZYAygkFcbIXPPNaIgo9/4DwVeU8wMseYKgALp1cve8Ht8MLpioWpeELardx2F57\n",
       "4eq1U4KiiuIuthCQISt+IjbyHtGxM2T/2heBQ0SH7xC12JerhCeSg0Bx2NCeR9Ij0KpKcP1I0sxB\n",
       "XXtSWBM7AmwsqIfTd/eQMiz4vVnLEnhjIg+cAGzKnqmmQLzWNDoAixkBxA44R7jomyi4nRJn3S6m\n",
       "W8sHltcKoq3tKazwNNlA0r+C6MiWRKw8tnaIj8MRNW8mObBdyWaPRBPLuVW27U91wFSraVQzV2m1\n",
       "e+5bZxNUqEfcqHZCFNFvVem0ZtOkJHoS8u1fFZBIp1wSqGXojcr+/idAp/s9wym7HfeABs/iUpl6\n",
       "m3L4xxVWTYRyYKcOk+txK8jgKS71EHfuoeYsCqXU7+tTOpkUBkuO2xQUPoFwpJZ+EgP6zJjF8qNB\n",
       "ZheB/fMrJPwPsT3mT6fwp5QCjmF7sCTpFYGH0+ArAo9L8P/iugC1WN2IQ6ZFYwAAArFBmmZJ4Q8m\n",
       "UwId//6plgAV3nnkZfDoCALgBuQLPlvGFMuPsSCuBNhIJY06Dfby+RnZ1J/1IL2SnaL70Q6Kyc7Q\n",
       "Lt0xJ52yFQD7qtqLVFDh0PvjPPTE41I2mXe+LZYmEYJxUtj+fSh6boIOiCtuoy0WQVhpiCB9ZBRe\n",
       "yEd+pjQw9yg2J/oME25PXcIWn8QpNPz/kiwe9y5DjyjP09+AWQbdOR5Zhbl7ZkIf1dJT1pZKtytH\n",
       "kRFzv7yB6W8pj5DKnX8M0GTOo1n42Q8RUXCoPGZBy6DrSWk1cRARGjZhHUjdnyx+02yC4oXbz/4v\n",
       "VvSOG8cuIUCFWkaJ+CkXNh/8iNOGl193QpoXVEMMP+0NAwygyQUbikLulwMr6n/KyjbXeePcNARj\n",
       "IfIcE+cQWGXGJVCOVFCNdaFXV+8hNFmaw64GCBKYiMn0vYG41poPVWS9qpXDi2OFcxqj2TXW94Uc\n",
       "2OmUj4xyYMkIeRuqKfzS11HM0cBUIdfp5IFdf/3xtUfNMapMau05rpceib68MDanoJ1mofnNFiBc\n",
       "DffdIYa5poe5sPxuD9DtNGpEljt1iPW7GoLOTmH2ySCG0nUzLa7FAlVvXcbhp1SocX5SkPlaKLfq\n",
       "HH+VFGh947nICrCNJ0ZKkBpyyRPbaaB9oV5/WmzXoG4qIEvVCgEboi2noZKX5LXA55LCvsfEUCuG\n",
       "V3RzsM9FzyZLyiKss0yBEGa6M+gnfgwsITFC1H7Gf1Lf/YCTs4nBxB0rhRa3c0uI3P3KCth9FyTF\n",
       "zmNHKv8+uQIcbt2WzPNEFXwxu470w+ww8/lFhu64WjdY4EV9o8T2RhVus+uRX8EWYE2PxVv87eW1\n",
       "NJX3frpTEWemKU1AyriSxj4M5APodHaVY5+2HSS++jywGfNovv6Fwrv1hLhmm6m14//60Hgx9AAA\n",
       "ATRBnoRFETwz/wCatFs1Ql5JkKwiS3QoMNW/7a4zrVhzMJkAIPD1CNtYTp27eOsC95o8eV0GoVJZ\n",
       "/o0yyf3nWD5dW360Tod1+LP76raNm9ZucqVL4SQJtwOXYMCuxCs0kvs6k/+cA+StlMTFemzbyyPa\n",
       "0kYakLBfNt4EBlXIaYvVKk58jObm8O0jAM7f/USH86MKlB3PrzFJZkV60SBc5jnV+SQLYRznmT9W\n",
       "ynY8vFObEDThu7hh5d58V3+t9RaVnTxUzn01jEjoMRNLBqI/bMd6CARo6awIJ5UU1Qixp+MDVWKS\n",
       "LaFLMAcXYI9ihbn25SQNIe0HxCG65oW5m4KA951dk0mxWkE1JG1qtQYSmGaMKZIcLs7YoAJRAjaJ\n",
       "IHL6b1Y++Tz2SHIm8Q9sweFaUVKDBqr0GQAAAKUBnqN0Qr8AIkqjoBOJnKfdhkGPYev7EwugcrMG\n",
       "4GExY0lygtnDkIW08aHBZ9S1sER0Q8wY6dyJelKpQeyNmiaReANtjVzRCCKDBxgHxl7mIE7AN6P2\n",
       "u1gQFtIB4Nw5GDn9NB6VXg9A7MbMVLaD+l5zk1p6x1DM7lPuAFZakJNGavpDg0IcEyqMNW4sBSqn\n",
       "ndKuN/3nMW03ANNkT/2FTmTe3E86nA0AAACOAZ6lakK/ACJKo1tT1iJruRFwH6oqvUNvp/hk5jZu\n",
       "6Hnb6Lq9ZdVVPTEFmPaDe8UEF+iooKnC/gT9N7sTY/I1u1mwrfdFPzU8kFXLvg9lEyvKqL+vg0Od\n",
       "XnUzJrfDX4lIvfSEHSeRZoUN+2qpxk7Zb42oaoLCx91M4oK2Xj68GugS2p6IfxM1cIaeQ24JIQAA\n",
       "AkBBmqpJqEFomUwIb//+p4QAFj5l17/Ed8eSIVLjF1gAF0aHYOo0FpCr1GyrzLa4mRqV55Md7/Ut\n",
       "AWon4Jc0XTmSqd/pZSd32W6cY+zrxekpt1hewPet7kMHnz9tD8pAyQ10ROAE0R5RXN/MefkZIsNT\n",
       "wLdAwjAJRJ5w+dg2E5oIlTBJQkT/W+QpAuAb2LqYae/QMUvmGxLN3uowwsC0WKtJ14Mp5VPG8hFj\n",
       "jXTNbGickKoIOoJ9swaLzX4B2Bry53EW6Cnk4Xarrc5QF/joKyJY3wOV9n82WmIVU1jOJT6Wh0NQ\n",
       "p6GwVt3dcNWZmW2aYJBuQzbQ+EzPcNdDIy9dPimKAKSZoBbvYf8BPjD0uArTq7V+q/LYyKRtO+w+\n",
       "jLDdO/lq8h2dlEu/UVVFWh1/phvs20iSFF/+lOHAf9u6Vi/uAFc+0Rut91VAfLyO47oNVlkz4eFp\n",
       "Y0VA+nTYiJWsFAvDMF173M9NVhRE12sNM4maWIBPxZvFmW2yoe5xzfKdYmHjOGNsKoG033vaqSTr\n",
       "Xro85NScQuHKeaN0YHFEiV+E3Zu9unth7HFiPeQyUl8lVrS5d2/09ZU1HeDwJhaWjn1GSbgk3Cty\n",
       "EtTe57XMgiJPMfvygo9DHJ/mKoVVG1ih4oMtWV2A/yRQCVTr1UQCe2E5lBZfYIK/zrppteuAWBXV\n",
       "jrjY+SfrX1LzHvdgIukG43htCgb449YiiJ0q4vxxeMe7LllTIX/u2sBMqCLMmMRzCkwWDZUKrJso\n",
       "fATDXUcFNF8AAADmQZ7IRREsM/8Ar1UfumubeUgYtZCQBcjP6N3jOJXLOCAEP0uFlwf4PxfmVJV7\n",
       "Wr/rx0+hoFcGcakMTPZkUV4QqvnzPWw0AAADAx7aO3j4PSkky+GZYFbfjIZ6LNgUYA3Gy/bqa55+\n",
       "2tr7V4rS484HBCbhCPe3ub2gIlXn9u6pK8VfcmNriIUzstHm1RyrrPxH0AoHxaGBV5XVhgV9dzMb\n",
       "M/z8usgxRaVBfiupTxj6fo3waqKkZtf6RQI6AyuXW822/uWW55gMt99kZrTXHqgrd0B/LA/1jFZd\n",
       "YXUSCzf9PgtCDrjEuUAAAACiAZ7ndEK/ACKuiSjWg5IR2apo2y0Mv7d5wAE5Kj6eX/mLVbfGYHPU\n",
       "qxQ9our3NgEs2O7vak5qobN0vkZyL0AAD9X6AOg9bnVIfh/gNBwvqQoAADsbyldFpUhcgtO+JL64\n",
       "wDS5hvJjUbdmWSnUSzF8C+9/Gr/vafP4VZ+h5CtjfLvCo/oOtVYHqWAr9vnvIvOrSYMuzS4DSuX1\n",
       "f/A1ZWhjARmMAAAAmQGe6WpCvwAR258oaYBZikb5ewAH7meB+EmdVEmGCoZbN6N+9XrcKtlZ2N/o\n",
       "d8yLd+7yjsU4Ko4DbN5M0rekPsrt8ajhFd7xut+N0+qnOGIZEBnrnS9i7DXdqHiNrdmzKOcyhdxZ\n",
       "N/cl6Be7SlZqKQFXr3CR/jgt7QoTAP17GMQCX7U4q25Z9O590/JLyZ+NxBcGpSLNg6224QAAAS1B\n",
       "mutJqEFsmUwId//+qZYACuKVOXKVngA/eIUQVHYD8lHaxylSMciyLK4LhghZIihDoVnMobT/UbV2\n",
       "2fGuN9ClY+bBt+ix+P/9PYpDCgl/vCjGyH8KH+NHtlP/hInGMEdA++a4UkiySUB1DOF6wMOtIUAy\n",
       "fiukiD4Q0iI0svapkHvs6vA9z0YGbyvTsAUkqYfn1fzB2in4vJ1bjI7cOsKh5FpBEbRzhH0C47Ia\n",
       "NlADdGe8+pBW/mQDYWQwrJB1tHcwx/xAH5tk7BWXtS3g6daqccyi5MfMicO+ASzLNdHnLBZ0j44D\n",
       "tpchCFIUl6l698tVQ7//gYLwXYQk7iLEJ59FhtsGPWsX4nvG9aVNh03c4Mgzg17/UeJPkZ+Gh5ez\n",
       "7SeDu3skNNJIhqu5lr/UAAABC0GbDEnhClJlMCHf/qmWAArilTlyjzgAbVaQSg+phH1JJ6GwSpiB\n",
       "htkOP5m8+lk0F+p4sE7oatGanczKilpDcoYwPDuibGNEZOrCb4McCdCiRfmitAI5ATyZjKtZpamy\n",
       "FrkX9j7z06emCC/IirXg2BSY3Mo4dtMyumyWryVLKLHfEimt7lwwuJ9LYP5144uYAP46JH+yWEXQ\n",
       "IiEgxvfSwJbpa5xAZ3+NCV87l7Y8QV++3luB+Xee5zxMMI65Af/UNIG1GQ0uTwdzj9dayuFVTyN1\n",
       "B7sSgMVsnIXRjKUROgxXPx5UM+JN0TO06+GTrkeUGkP2na+6Nf52nTWga7aDz9X8oavvDlGtRhnK\n",
       "LAAAAg5BmzBJ4Q6JlMCG//6nhAAVjDyJPMgBarSZcrkSpj689DV8IFb8IeENqhCPt32lPIVyJqfn\n",
       "p3aDC2MS2vgZL2cNYDXC7z1fD3CV6greb5REoQv67TkYkZluQB896ipzdspEzdHXQNAK2BcrI9it\n",
       "zWrQoFV0EE6gwQdmokQq0eqD4gFjPiwj9xIzAlDEpgM5U/K6Ysv6bPSna/NhRW6IpVRxb3XcFM8O\n",
       "/8s78AbA4ApgSUVETTUTuuJmn5gaFWAa0IMVHSUetAEEhiZZjboomGErBDaBXDWLRFmiqEaspZTK\n",
       "eHh49JlKxvnKWaMFL2vXCxWRHEpiZyLeZYYqmF8hr+4X/Fxqk1xfTFauheKz/+xFeNQqiasaCYww\n",
       "CUUqPN5f4YQQza4LU4IHHag1EiAtymEoB73VNvNsvviCie5wWlyEmJxryieoXAU5wZCIv+scCIrx\n",
       "+NoahquAO1oN5QeSfiM2UbMn0VN+tHhTvk32NH96uG4hPNm7ca4VJWdPWZdEk3C1PbI7ho3RiRzc\n",
       "ZoQB3xhn9q5s8xdzUch0cssK/w8QIbr6WG3wAcGTKETs+w+9AGZzXqYnXsWguX31KSHv9P9W95V5\n",
       "t/iPTGIq4hBCfJf64AWcsHX18e4B8GbDnE+B+SqgoSqH7gXPRXFVNGvMMyKa7PBmbt3dsC0U2zn8\n",
       "/6VFTu2mHF3tue0+KsjmbDkxAAAA5kGfTkURPDP/ALFK4dTHRGuNvh++ZdIAJP0bhAaKyKnLAYX/\n",
       "vXVa6Sl3bv6wJJ5as1BJAoZD/S8/Ggv2DTAydj8fDxGR4N6KhcqA0NlI0p7rvd1lOZIASOE1Yltv\n",
       "nql6vmptF+/0sJ/6UhLrXlFe9PfYebPE+WCJSixdEoYz82k2yuoJnTJXOKYcxgUr1/80Pikv7hBG\n",
       "TZE90KWxuUV1CF6/YUpuLl85q+cPz/opoSliN39mVo4b8mJ+G/x0TFJc/x3o+riere4nvuChOrn8\n",
       "rJHiZo3zjaxsAD32lveDAIpvzGOD5139AAAAjgGfbXRCvwEfD4Xmccro8vslDwVzNb26Vu7Y5pHV\n",
       "8P/j3VE5QuklWMtJyaGrIEmtunnouQf8VBIy8DHsLGqAqs2s1Ix16RZx6WnggGmM4da8u5p22Ma6\n",
       "T/xpBGkcl77FVVCe7vAe0U7e73GyX1AB6b4JyBXCRhU9GlbxVUuZvAEadIq0YzNL77s8TU9GzYEA\n",
       "AACOAZ9vakK/ABHdaZsGYh6VABbm2q9shbjo7/w0YJ6LPZY5oedzY+BwhoGjzfe5MBm3ZK7etPb5\n",
       "U1vwefa0z4EkSE2Hi+rdK7gdGnEwvKPMD+Ln5K5uz3e4pkIeKflPnIQnTe3yQ8BRc1xktcp4imq9\n",
       "m3dWCeReVsA7eiXJ7EdDrUzjC7i9MkTs5ixafmpFwAAAASlBm3FJqEFomUwIb//+p4QAFY/84frc\n",
       "ALeL8xqrLxzJsALjIUX2iWk95M03rBtxan6t0arqqU1+H5T2XX4v78DGoEWEHNg90SLAPrIJxCj3\n",
       "a1KOWo0ZkjrPwQuIB1a+ov6pkso1C4RUiLzook3K4nSqwy0HhXOVs4wcVEF5r7ltkI0Cz2UPXuNK\n",
       "K9r6Er6IXlYNVuVkR8+AzY84ohC0iZWJ15jdep9xt246XmtQYMP30oGtjfUUB56GcnE5rdge7p62\n",
       "dOiroBQb4RO6o47bXlHRk6fPOMbP1JjX+hq9jKoWrSDlaVTvYwSYPrGBPZFvf0ZSp68TdrdRwd1T\n",
       "lQjkH2aCqzKptie2MXl+E6UeB72ncGJYTZQVUfpevkmxJ05+UvXg5eieKPe+JvAAAADdQZuSSeEK\n",
       "UmUwId/+qZYACuCojWVABO3IlxI/SdGU1IS+AmGYA9XaRdhtL1cBP7StmDlP+kVOMNKTgZTdcX0P\n",
       "qmXLm3sH3qQ4b51K8YNYwPYweWa4eX+k+Ty1Y0VtMrizx8FeGBUN4HZCzqfyXL9+JNNjSH9Z1qoL\n",
       "rF1+k+NH/eTJQNF2IM5AbFmRkfRM7OJDmBZASqerf8FDZSAHPJXCvj550+G1B4vk1+2B5Op5u5My\n",
       "GEUs+XaBcSpMPz8kvr+EfAB4hRkMN6TNwad5O0c5fk5458jmfLMtzxtlb0EAAAGsQZu2SeEOiZTA\n",
       "hv/+p4QAFa5l2CWX0V1YABO0R0doFIjtLdsUBx0dvnW2jkxLNp+xp0+s9nFUWPvyl9Dtxd9LusVK\n",
       "S+HHvsRYYsUlL3FeyjwmJ9vEgagunwAxdWzAhrAKCdx0ujcWg9UdDaVMgAf8C5a81vWkptYZZqg9\n",
       "WMMSubdhyieJoppab6FZIvcIewM42Xyq3pzcBazNtb8GMhUTuUc9xtUkeerNVAoOCEpPwv483e6X\n",
       "OusvbQZ86M3e9iR4pEw1PptR351+4eMQVZcbuPIiqLmgARwzf9HXmKENfRAC2UavdW21zHLrvoCd\n",
       "74XpaSrvXNzzAJSU1MHlnUwIw+xVfPdP9Vi3ueJ993AEbG8hAdflVa/v4z9R2bEoUHsQy7HUf9cK\n",
       "sSFLB3Di++g/WxYbsxelWjiO7XfLKtUOOr98yxvp+Wg+hXXPUuUtExd3H8e0MYjbF6axz/yPJzXA\n",
       "RfhpX8a0Zc5k2UzdTj5LQPMJrbJpz657kb3XUibmsl5vAsmwzlowaORIkQCUa72Qk8N7f/hiOoDk\n",
       "tl6jPgblsfkdec0pagKwpw+qekAAAADUQZ/URRE8M/8AsUrh1MdEdffP5WcSrPuFnXjQmjBRT52Z\n",
       "DUkctlfR4SBagrxcjaTtx0aPv0u4g2EvZWTSO5eu9kG+TG1U+Sf15rKalDrKsnyc/mKfXNcBOTfI\n",
       "0cydKVlf0kQs6ro/TYjVQ9OwyoCfPZJh20CSZIOf3Bneu9gPqG70FoQqE/wbgraMhIPbHw36Guv7\n",
       "GzxSKhDW058RgOtGzHbU7NavYqW48WVoEf9H+xGIcmvxSnKe8zpfRcytu/7VxIYluoLrvsynlsVf\n",
       "50LwxF4OZoQAAACAAZ/zdEK/AR6IfApnJBAm4RbbH6jkqiYTGOjlwNh10sJAB+0QeWABN4CH1vby\n",
       "Xueu2vbYwPKTmTfJoOYALvnCgaX8cmbvVhoYw/bjy6ARszPHOU7c9ghrYvlqDRqgvIldd6N81JN7\n",
       "f52YlJjLC8eXm7F4Top0HV+7cHfwcTjC6m0AAAB+AZ/1akK/ABHddJbQkGm5+AATu5zk+a6WBqnO\n",
       "Feyez6rm488p6+CrrtNeYqhuJ7RUpYsHmI/1wg0rISHsir5zHomxSNl6Wip0I9R8bw9ipR02q8Js\n",
       "bKF0IoHYja+bgpaTH5Lt32KgVBIsr+jHR8LNOrpzc9ctiSwDjHjXbynQAAAAw0Gb90moQWiZTAhv\n",
       "//6nhAAVAABzHCgAJ19BlhZ/0PkRN46a3WST35LbOR9UFPx2V+JW3oNRI7DPLgdgxpu4xPOnDv/s\n",
       "p43QcvYoRFUr800mQnMbzyoZ4d9u3mD16k/QPXIPI5yR8/4lNReDlgWI/yj3XDYu3JROm4LcIT4P\n",
       "c+TUX1cOZmOUeq+qCs8oyN32/N1ISXvtgjQF+pfv/4AO1dTQZKsamicm+/1b++TgMYhpsUjemK3j\n",
       "iLJwNmdF+avM+O2YUQAAAPFBmhhJ4QpSZTAhv/6nhAAVBVRsqpcAAnRw2BImPRQd0BLMsKArRe7l\n",
       "lJ7xLRR1C9I74ijbs1eoBo/28AV1sF/HS+TB6nOVfHb4MsjAt/DBEIZ2/Y244NJD5zahMmO4t2Rf\n",
       "+SFM1BDJhhX0U9Zuhjfkr/cxiD5Du9B0EG6VSzz+EM38PjW2OJy6hw5fOGt2G5m7ZR4LVZIlGj3O\n",
       "4O+KRMJDZRaNFA/He9/Ngr/p2SdvCQO/VXjPcAlSDKefhsUdPP7ebayfULp3UtUeIRVczuwJRdbz\n",
       "QpHLhGylf2JW0of2SelSR5ocTgTgrcTKQE1Yi1OhAAAA30GaOUnhDomUwIb//qeEABUNhERXbLzI\n",
       "AW1fKD3Rk2lv0XU0YYQCCQ/zXW5a5BaG8XqGqUNU9SjRFRam6bZPW7tPiH1Di0B+jbDYRwFbNhlk\n",
       "ECURFM8hUIhug27pIrm6kD4kxEveV/newX77tp8W7H2B6q3EvsN66iStyd/2Br1tthU7+j8GAOwB\n",
       "ZdY31UR2AbuBIDe2rkaLjFx9sN6cK7HPCuQ8kuHf0mqE8nbTFsvJkkMHz6/y9r5E0U4n0JhjnN9k\n",
       "9nRQwoE/497g7cXXesL4+1dHZ5YF2rNtSxTdqKwAAADjQZpdSeEPJlMCFf/+OEABP/ax9aM1BlmV\n",
       "AAXVLJH8qaxhy8QQBxS+4wE4gY43YJS/hA7dzJ3MaXS4RUCqfjOGp1xtZChBZKqyg0BZNkfvevHV\n",
       "X9TLFn/mHv1TdxV02EKp1X/YNgs5NzNBHWm32j52TytsA/OV9D1i/osA0e4zvK+HDj+xl957TN9F\n",
       "UOyH7bDm9IWBKUK4zeejhRaRQEaIf4G8u847/Kf+CFAHI3nWnzscUIe8+Tn0GHfdUyGyIiSR0lkv\n",
       "s1zK849DqjTpwqdFl8bfOtYiXxm+P51/y0seyEqiKpEAAADFQZ57RRE8M/8AmrRa8W1NhY0K9w+Q\n",
       "3/v84DRsvZaL4AVIHizylTWng9Qj6v7hxkUKrdGV4zIjYYMB0LCpiBVMK4QRT55AAAADAAGEvhMq\n",
       "qDFtY22B4WVlJJuqcZZeags4XdyarRuQx7YJzlrhW5afckxGlig7WoaSm50CWtknMJEe3aWGjMEq\n",
       "6iptJj95VuNtoaQNz8PcdY4coGJZuS3CoF8E2jFMxxt27PwIWQQ+2rvnabVNjFLJz+H8TvfUeV5P\n",
       "doC5cUgAAAB9AZ6adEK/ABDWounBADcA1kqJ2mDcReJoi+vQV2t1ZDkX9qn1UK++CsgH+7vZHp15\n",
       "rMTg/o8XZFz6YEkqZj97ghoq0xcfGENUdcBKk8aaeA/3CiNtjt47nl+JlE99qazSbJ4Ci2LPsjVo\n",
       "DvmKsRRXhu3cmBUQ60FAA6jA8cEAAACMAZ6cakK/ABDc9ih9gNhMuK8ALY6CMQgmm9SYjDOmy/b8\n",
       "svcoMn3356WoPabJPhDtK2xAbe6F7YOM+2ufsx5dyy+txrntb3UV6nKQ0zu4Sh96O8al3nJgSYUX\n",
       "3xxOQBIpKeIxz+wm/X7paVUHdAOpbwkx9klnlDG6gwSMyts4peE+qZ3dG5JtRFUkvsEAAARmbW9v\n",
       "dgAAAGxtdmhkAAAAAAAAAAAAAAAAAAAD6AAABdwAAQAAAQAAAAAAAAAAAAAAAAEAAAAAAAAAAAAA\n",
       "AAAAAAABAAAAAAAAAAAAAAAAAABAAAAAAAAAAAAAAAAAAAAAAAAAAAAAAAAAAAAAAAAAAgAAA5B0\n",
       "cmFrAAAAXHRraGQAAAADAAAAAAAAAAAAAAABAAAAAAAABdwAAAAAAAAAAAAAAAAAAAAAAAEAAAAA\n",
       "AAAAAAAAAAAAAAABAAAAAAAAAAAAAAAAAABAAAAAAbAAAAEgAAAAAAAkZWR0cwAAABxlbHN0AAAA\n",
       "AAAAAAEAAAXcAAAEAAABAAAAAAMIbWRpYQAAACBtZGhkAAAAAAAAAAAAAAAAAAAoAAAAPABVxAAA\n",
       "AAAALWhkbHIAAAAAAAAAAHZpZGUAAAAAAAAAAAAAAABWaWRlb0hhbmRsZXIAAAACs21pbmYAAAAU\n",
       "dm1oZAAAAAEAAAAAAAAAAAAAACRkaW5mAAAAHGRyZWYAAAAAAAAAAQAAAAx1cmwgAAAAAQAAAnNz\n",
       "dGJsAAAAs3N0c2QAAAAAAAAAAQAAAKNhdmMxAAAAAAAAAAEAAAAAAAAAAAAAAAAAAAAAAbABIABI\n",
       "AAAASAAAAAAAAAABAAAAAAAAAAAAAAAAAAAAAAAAAAAAAAAAAAAAAAAAAAAAGP//AAAAMWF2Y0MB\n",
       "ZAAV/+EAGGdkABWs2UGwloQAAAMABAAAAwCgPFi2WAEABmjr48siwAAAABx1dWlka2hA8l8kT8W6\n",
       "OaUbzwMj8wAAAAAAAAAYc3R0cwAAAAAAAAABAAAAHgAAAgAAAAAUc3RzcwAAAAAAAAABAAAAAQAA\n",
       "ANBjdHRzAAAAAAAAABgAAAADAAAEAAAAAAEAAAoAAAAAAQAABAAAAAABAAAAAAAAAAEAAAIAAAAA\n",
       "AQAACgAAAAABAAAEAAAAAAEAAAAAAAAAAQAAAgAAAAACAAAEAAAAAAEAAAoAAAAAAQAABAAAAAAB\n",
       "AAAAAAAAAAEAAAIAAAAAAgAABAAAAAABAAAKAAAAAAEAAAQAAAAAAQAAAAAAAAABAAACAAAAAAMA\n",
       "AAQAAAAAAQAACgAAAAABAAAEAAAAAAEAAAAAAAAAAQAAAgAAAAAcc3RzYwAAAAAAAAABAAAAAQAA\n",
       "AB4AAAABAAAAjHN0c3oAAAAAAAAAAAAAAB4AABoVAAACOQAAAYoAAAK1AAABOAAAAKkAAACSAAAC\n",
       "RAAAAOoAAACmAAAAnQAAATEAAAEPAAACEgAAAOoAAACSAAAAkgAAAS0AAADhAAABsAAAANgAAACE\n",
       "AAAAggAAAMcAAAD1AAAA4wAAAOcAAADJAAAAgQAAAJAAAAAUc3RjbwAAAAAAAAABAAAALAAAAGJ1\n",
       "ZHRhAAAAWm1ldGEAAAAAAAAAIWhkbHIAAAAAAAAAAG1kaXJhcHBsAAAAAAAAAAAAAAAALWlsc3QA\n",
       "AAAlqXRvbwAAAB1kYXRhAAAAAQAAAABMYXZmNTcuNTIuMTAw\n",
       "\">\n",
       "  Your browser does not support the video tag.\n",
       "</video>"
      ],
      "text/plain": [
       "<IPython.core.display.HTML object>"
      ]
     },
     "execution_count": 45,
     "metadata": {},
     "output_type": "execute_result"
    }
   ],
   "source": [
    "HTML(anim.to_html5_video())"
   ]
  },
  {
   "cell_type": "code",
   "execution_count": null,
   "metadata": {
    "collapsed": true
   },
   "outputs": [],
   "source": []
  }
 ],
 "metadata": {
  "kernelspec": {
   "display_name": "Python [default]",
   "language": "python",
   "name": "python3"
  },
  "language_info": {
   "codemirror_mode": {
    "name": "ipython",
    "version": 3
   },
   "file_extension": ".py",
   "mimetype": "text/x-python",
   "name": "python",
   "nbconvert_exporter": "python",
   "pygments_lexer": "ipython3",
   "version": "3.5.2"
  }
 },
 "nbformat": 4,
 "nbformat_minor": 1
}
