{
 "cells": [
  {
   "cell_type": "code",
   "execution_count": 3,
   "metadata": {
    "collapsed": true
   },
   "outputs": [],
   "source": [
    "%matplotlib inline\n",
    "import numpy \n",
    "from matplotlib import pyplot\n",
    "from matplotlib import rcParams\n",
    "rcParams['font.family'] = 'serif'\n",
    "rcParams['font.size'] = 16"
   ]
  },
  {
   "cell_type": "code",
   "execution_count": 4,
   "metadata": {
    "collapsed": true
   },
   "outputs": [],
   "source": [
    "def rho_red_light(nx, rho_max, rho_in):\n",
    "    rho = rho_max*numpy.ones(nx)\n",
    "    rho[:int((nx-1)*3./4)] = rho_in\n",
    "    return rho"
   ]
  },
  {
   "cell_type": "code",
   "execution_count": 5,
   "metadata": {
    "collapsed": false
   },
   "outputs": [],
   "source": [
    "#BAsic initial condition parameters\n",
    "#defining grid size, time steps, CFL condition\n",
    "\n",
    "nx = 81\n",
    "nt = 30\n",
    "dx = 4.0/(nx-1)\n",
    "\n",
    "rho_in = 5.\n",
    "rho_max = 10.\n",
    "\n",
    "u_max = 1.\n",
    "\n",
    "x = numpy.linspace(0,4,nx)\n",
    "\n",
    "rho = rho_red_light(nx, rho_max, rho_in)"
   ]
  },
  {
   "cell_type": "code",
   "execution_count": 6,
   "metadata": {
    "collapsed": false
   },
   "outputs": [
    {
     "data": {
      "image/png": "[encoded data removed]",
      "text/plain": [
       "<matplotlib.figure.Figure at 0x7efe7053bc88>"
      ]
     },
     "metadata": {},
     "output_type": "display_data"
    }
   ],
   "source": [
    "pyplot.plot(x, rho)\n",
    "pyplot.ylabel('Traffic density')\n",
    "pyplot.xlabel('Distance')\n",
    "pyplot.ylim(-0.5,11.);"
   ]
  },
  {
   "cell_type": "code",
   "execution_count": 7,
   "metadata": {
    "collapsed": true
   },
   "outputs": [],
   "source": [
    "def computeF(u_max, rho_max, rho):\n",
    "    return u_max*rho*(1-rho/rho_max)"
   ]
  },
  {
   "cell_type": "code",
   "execution_count": 8,
   "metadata": {
    "collapsed": true
   },
   "outputs": [],
   "source": [
    "from matplotlib import animation\n",
    "from IPython.display import HTML"
   ]
  },
  {
   "cell_type": "code",
   "execution_count": 9,
   "metadata": {
    "collapsed": true
   },
   "outputs": [],
   "source": [
    "def animate(data):\n",
    "    x = numpy.linspace(0,4,nx)\n",
    "    y = data\n",
    "    line.set_data(x,y)\n",
    "    return line,"
   ]
  },
  {
   "cell_type": "code",
   "execution_count": 10,
   "metadata": {
    "collapsed": true
   },
   "outputs": [],
   "source": [
    "def laxfriedrichs(rho,nt,dt,dx,rho_max,u_max):\n",
    "    #initialize our results array with dimensions nt by nx\n",
    "    rho_n = numpy.zeros((nt,len(rho)))      \n",
    "    #copy the initial u array into each row of our new array\n",
    "    rho_n[:,:] = rho.copy()  \n",
    "    for t in range(1,nt):\n",
    "        F = computeF(u_max, rho_max, rho)\n",
    "        rho_n[t,1:-1] = .5*(rho[2:]+rho[:-2]) - dt/(2*dx)*(F[2:]-F[:-2])\n",
    "        rho_n[t,0] = rho[0] # boundary condition at x=0\n",
    "        rho_n[t,-1] = rho[-1] # boundary condition at x=4\n",
    "        rho = rho_n[t].copy()\n",
    "        \n",
    "    return rho_n\n",
    "\n",
    "    "
   ]
  },
  {
   "cell_type": "code",
   "execution_count": 11,
   "metadata": {
    "collapsed": false
   },
   "outputs": [],
   "source": [
    "sigma = 1.0\n",
    "dt = sigma*dx/u_max\n",
    "\n",
    "rho = rho_red_light(nx, rho_max, rho_in)      \n",
    "rho_n = laxfriedrichs(rho, nt, dt, dx, rho_max, u_max)"
   ]
  },
  {
   "cell_type": "code",
   "execution_count": 12,
   "metadata": {
    "collapsed": false
   },
   "outputs": [
    {
     "data": {
      "image/png": "[encoded data removed]",
      "text/plain": [
       "<matplotlib.figure.Figure at 0x7efe70bbb710>"
      ]
     },
     "metadata": {},
     "output_type": "display_data"
    }
   ],
   "source": [
    "fig = pyplot.figure();\n",
    "ax = pyplot.axes(xlim=(0,4),ylim=(4.5,11),xlabel=('Distance'),ylabel=('Traffic density'));\n",
    "line, = ax.plot([],[],color='#003366', lw=2);"
   ]
  },
  {
   "cell_type": "code",
   "execution_count": 13,
   "metadata": {
    "collapsed": false
   },
   "outputs": [
    {
     "data": {
      "text/html": [
       "<video width=\"432.0\" height=\"288.0\" controls autoplay loop>\n",
       "  <source type=\"video/mp4\" src=\"data:video/mp4;base64,AAAAHGZ0eXBNNFYgAAACAGlzb21pc28yYXZjMQAAAAhmcmVlAAAtKG1kYXQAAAKuBgX//6rcRem9\n",
       "5tlIt5Ys2CDZI+7veDI2NCAtIGNvcmUgMTQ4IHIyNjQzIDVjNjU3MDQgLSBILjI2NC9NUEVHLTQg\n",
       "QVZDIGNvZGVjIC0gQ29weWxlZnQgMjAwMy0yMDE1IC0gaHR0cDovL3d3dy52aWRlb2xhbi5vcmcv\n",
       "eDI2NC5odG1sIC0gb3B0aW9uczogY2FiYWM9MSByZWY9MyBkZWJsb2NrPTE6MDowIGFuYWx5c2U9\n",
       "MHgzOjB4MTEzIG1lPWhleCBzdWJtZT03IHBzeT0xIHBzeV9yZD0xLjAwOjAuMDAgbWl4ZWRfcmVm\n",
       "PTEgbWVfcmFuZ2U9MTYgY2hyb21hX21lPTEgdHJlbGxpcz0xIDh4OGRjdD0xIGNxbT0wIGRlYWR6\n",
       "b25lPTIxLDExIGZhc3RfcHNraXA9MSBjaHJvbWFfcXBfb2Zmc2V0PS0yIHRocmVhZHM9OSBsb29r\n",
       "YWhlYWRfdGhyZWFkcz0xIHNsaWNlZF90aHJlYWRzPTAgbnI9MCBkZWNpbWF0ZT0xIGludGVybGFj\n",
       "ZWQ9MCBibHVyYXlfY29tcGF0PTAgY29uc3RyYWluZWRfaW50cmE9MCBiZnJhbWVzPTMgYl9weXJh\n",
       "bWlkPTIgYl9hZGFwdD0xIGJfYmlhcz0wIGRpcmVjdD0xIHdlaWdodGI9MSBvcGVuX2dvcD0wIHdl\n",
       "aWdodHA9MiBrZXlpbnQ9MjUwIGtleWludF9taW49MjAgc2NlbmVjdXQ9NDAgaW50cmFfcmVmcmVz\n",
       "aD0wIHJjX2xvb2thaGVhZD00MCByYz1jcmYgbWJ0cmVlPTEgY3JmPTIzLjAgcWNvbXA9MC42MCBx\n",
       "cG1pbj0wIHFwbWF4PTY5IHFwc3RlcD00IGlwX3JhdGlvPTEuNDAgYXE9MToxLjAwAIAAABM3ZYiE\n",
       "ADv//vdOvwKbRZdqA5JXCvbKpCZZuVJrAfKmAAADAAARsIYOcTH6I/UARl2fIzSoxxIMTv/HMrQF\n",
       "+CTKFMlo9EQieA/2oyvndiZfbOXf3dxMCLsAcBzkD8+MoMJASpLCueBTikfkwUJ2YQNhHCpYT1NW\n",
       "BC6GlJNRMIi+tPt7ton61l9fMRypri5telw9pV8VxbDNJDqqFcU5jEEuKGiebWZCykbtIFQ6HWJS\n",
       "5NQW7mHicSM2EVHQNusJ1ndAiuLf/n5ATn09DPzsLn5rr3ypIMSPm3k/W+gN/Llr5B65yk65ohYS\n",
       "b4TjhDs3aRWrXg+TxQwc9PuiLkRki7IdhEpltMYXdtauqBp/eYPQQz7ZR8o8i8ivsACgU26u9r3C\n",
       "4l9H5nds5a66qqUTD8TISPx0YhUDoQL8FaxyzZuplgFLiNtL2GvqRwbgXayU3Kl3jdqAVlUKkY5E\n",
       "UAxwzrypxU4KzwSWG8P4EzbiSM7VujgRrGR+jrawc0zdDF7TWVMSmO8oAuGz5CJJaMw3xQ86PYTw\n",
       "6tvBSUznFBNhUGzMuv4l1k05oW8vxHmMZnrCOt0bpGW2gqrkjye7chd8sy8KbEFnjOclxGPxx5E0\n",
       "BkuynamwmMY4a3LypCHLhdCmM3Oiwr758TBZnMgdZ4pbp4jitAxzPYLASMhxHzL5BOJ/+q8Lrvzg\n",
       "js0r1+kRftZuEJmeYUaQNXeSb4dSBi53th743mBWY+6EztYnBuHYyl2Uz8QG4FXwEZHn5D0LEPSY\n",
       "Yn6XGXH8/8ad3bTBXJqBEBLpO5a26qNtcDrQpTe87yVlXbSxrKnAAINHxn40jQZjPqe684un48Lz\n",
       "QesRFus/w4wijPW1NTrLpxM4hYNnsnfdP16ejEMGd9q5jeGQjOYMbfIgde1KlUNFMQjAobAecZnv\n",
       "x2K7/0lT3lgkIpmdoe+WBVzIugsDvCd8gITsAl/zcAchmXqpITrvQP6ZEYA2KJKuS0GmjLJxCYs7\n",
       "d9K9qgMWex8czbbfTthM2sIFfKKJlyucLp8HkNLBpk61QQGKlDvLOaQPbhWAhdcv5DOgf9KQr/JY\n",
       "Ve70xkh1IGPc2ZbHcFAYs7NsmgzIyqm+hFzKH/PgGjLLTXgCIuy16Llunho4otsSXcwNaLwY11WH\n",
       "R5tGjCzXhbfICPfAgFrvouK0ot1FPrmxua7iIBL4Uj6dGFOnO8wt86u5gV5qO+uXlHBo5piO6z04\n",
       "Xcn5T5NX1OzeBZiORz5QeIWB5Xof09jiVGL6PFrb6hNweJb9Us1M84dB2xxYvy29n9rtJBOKEpHN\n",
       "2vL91KSidZZ1YAbC0/s/kQ4A+5S9JQ647klhTkHRehzmotKp2IT1OyyEEIeEqaTjg4vp7Ct+3Q6f\n",
       "Jt1n9VTmHJhrhZSjo8QHSD2/duhI6Ihr7wJkp+eQ8SlAEEKIpQ5hWgWtbwrDhkwkEyitZTCp+gwk\n",
       "ShEKwbu3NPp94r5rRWctS154WzXXNEBo3q25zyFuw7yD6GN1CfDgD2QfoQv+crXBnaS2M4v3/n1l\n",
       "rBhMv9tGLXbtFUOkJjRvUyGUHSO/N4T0Q2K4fS4atMIFcWFQuDVEN2+/0mtV+ZSQslE9pbwZR4WL\n",
       "1hpd+2MHu9L+QMGdTaaNij2JmvpA2/cgtlcTglqisXPmwSQa9KUu5AmaA/mwOAtsbyH+Q6cSDwEk\n",
       "6X6M5eJ/cwxpOaJ+zVObgCeMwL1g3SFVS5rLX6m6zPURLCboFAkQe9tzhLcJCb8gQN2RKIcT6WDI\n",
       "Wfq6vCJu67xaLbKlP3+vhsfqjyVNg4UD4cPgd4G7y+/0gt4DK3W4VMvtdwgFeL6MU8MJHhpEUh6F\n",
       "u6ngKHZjHD4XlyNlMhq+3a4Nm+ZNsg7hVmzugp63VWEIxUO7btwVYV/GOOL0Iv5Nw4lBaF4R0JEI\n",
       "lP810eNUKQ44r+0GUk3m6YShS5fmCPP5rm0YYLX98nEs5qnxx9vQTP9OenO6Btvxv0XE3eAQZzky\n",
       "rq/a8+4+bU1j/tFwT+4PH5ikP0M0v6kjw6gF99FDJ8ymQluDvn8osymhpkYGQLS3ZL/3cWnbaIne\n",
       "yA6C4urkcsQAhQuzq9LEoqGM3ahSPcq5k5T+MKRdhONM5yXnTTDXHU+v9wYr0kyBjWWvGI/O4DMe\n",
       "O+Ts2qzlCH50GL1n16Nid38h0Ba14GKgD5v4ZRPuTJJu+GkOxrwyoE3tvcqEiKiC7zGTI+dC/yXS\n",
       "cpOfcAE7f+ueeBRmWLyH/ye243TpxbbCQ0cIkNQs8bgub6YY/wFcpZcWQ4Xc/Mi1uu7dv5JmtLF7\n",
       "mQC4uHP8tVrNUtlbGn63J5ZqP0+5Kbbb/lKfzIvBWwaOWcXcslz2WaPSEMOPqgptsLywL6SkQgm9\n",
       "vifau2b866VZnvYAwFR/FvEXDi0Yz8gvMIe3Tf8gBKcj58sHIp+Sa4WbhQTTpnh+j5x65xwKHTbl\n",
       "vMjE2crf54i14tkY0RsNX+SD2REgaDsaETQYdETmlwSxJDfe/rjnG2AFKAsHKbzXZ71PBhEoihUA\n",
       "yg5dnINaxh6v/pyA5BSQ1hJc2C8bUjfZ05kG/lK4Jb8tIPipvd+yT6UFYeqEIb0wpz8SEiqM2e0d\n",
       "cFumZNNVUKJV6fBbRxh3QZwumFjqdHyqC3vJr9oLlme4WRJx5vRZDsRH66JNNfXmIAlSGYHSPczm\n",
       "T/K1frxu3UnOJuWVTCLBGaYduGWSi5B0n3BhRCwQBK4FqLmhS3MScUfj9wDp2GBAVLeGvY7P56XY\n",
       "vA+E8r3c2b1alJIkYX4Z0uAuk9iigLBPcE6DP0iWyfoOKvVXkvwtkO8zBXrGJ24QMcq7fWgtHrWv\n",
       "K2EnmmQTYttYdwJ00vRv0T9gn534jFQpW136Ao71uR01Iu89LkBaBqesJWj5zK5YalytrmkCuAs3\n",
       "6jzZt9OQO7fsNPashwQTLJ9+5VxnoIGKD95Tr6/X9be+A9NrTqBalgIVLSBA98s4ky52M9B5baek\n",
       "GRBbHxe3fGjZH4tSxGDDZxlfSOL8NKHQ5NV79yvzTRasvz6HbXzUoLweiHD9eT4vGL/ZXn45q8y8\n",
       "v/SZUmVg8SJr3b+onxZ7eRN01KMuiEJp1GDUYUMQeZ08xrH79K/e/u31VzTMb+1pnsE9USUMHC8G\n",
       "eoxw9rH/ZCWRvDPH0Z3jr66u+aAIE1Ir9lTQKeupCPQ/x/fOcoNaFiIF6G7BO3L4NUaGvyl6cNrh\n",
       "oZ6v9dgecpykM3cKwQnmmhGJZMlC4OKu14MFDt1JYyn8srToAxyWP7cZH1fKtTfKhUotcyeqjxk9\n",
       "mmaKYO3bUPm8FTA9RUMNYYzEV4/unKUJfFgZv9fIg+HeKsy94aGK+qrcAkjEE4nE02KgC3nnsAH3\n",
       "1cjvWEdkdVUol68/4Tiy33+9cJLYAvK4E5c8CSBDFkdZ2qzjvlWfLdTois1odxlMN01EfeFrFbHn\n",
       "YmZW8lZfhBUVKdqrQ23SK1gU7PpSkfrDvMfr4byCJpv92/9Co6yma5L3ynrfNIwPdRuf+cqYkcCQ\n",
       "S5+oOM5DKS2IITtlfzVOmO8TgCiTfoYiwKYBaZBRLyzaXmuoi93wc75+TiuvQ2St9vTEtrcPOTLc\n",
       "6GSwHvXAV9jkyY87n+KA7XRSm0jJowIYt1wfKBuL7clikUpd5bECPhum/DuKUdMZVWHMx+6H4nZZ\n",
       "pXi9SeW0sGsfDbCyIr10Cf2jPaTirjNTm8wKz3E39tlWVL3wfWt/BX4v+SiXPMB3tdREhrJrlBkN\n",
       "fkv6l5vypWJvJdM2Kerwf4YxVbDduMGaqPSZExouBbPm3kCyM1fafVYFtn0B0pSpAs9Ey9z9D5az\n",
       "9FE5zBE2m4MtA5QBMBsDXUJfKAkg+QSAZvp13xrdjB8a59r+2E+l+2/rWf92HoGKf/aEuwQRJgWD\n",
       "okaTeio0gFfRwr7DMHZIn2GiP7jx2f0j970L4ToBSZkJRx2DBS9T/dHhu5kI5VVn55NYBk9pYc/H\n",
       "ptPtbXPoxUr7mNfuePFGz175sYopletb/yF0WmadgLaJ9zaPcielCVO3Vn3a3G6JASuYBollfWgD\n",
       "PfplbNHVU/gHcbhS55xxSKTST+ojfJVzbYsl4OIZkyNye/Tt0s6n4x8/C/KjefasOrno4aqOX4q+\n",
       "uwCB/F4ylZSigTxc7+e54SU4yosgk4P0ylpeeci8dtrFaBys9zIuUPzziftzZS/NjUf93CiVE8OM\n",
       "kzXErb9mlxvDpzLQK1WQAMaEkPJufKYzOdN5DUQlhJAP00UtxESfXf88NOiaVyAIwyvPpbgBnLv+\n",
       "X1j83u1l2V3lNIoOsW5JcM3mav9Qg9JgpfVjSChHvp6/C9s0wqaKfKkFSalp+UVKRpwf4s8HWVqj\n",
       "TWHFAuxmPu2jl9amJRyzXymAjrBDsKoTZqlC7V572bM1oiGVqy2dp9IlhMBeybvYpYGXrzz9Mv7p\n",
       "gLMrTq4f2FCjgfblBD6YQxOptWUONbXxvKG9c/1hNhIcZbs93FD5cOiroqdMpUvSK0V/n4+qhNrZ\n",
       "cW2OqoY8FJGBOewq42ylcn1U9PDWiZ/qp7GyHzp8xjwPT2BNH+++o6CzwwmISRVotmVhP/jza6YA\n",
       "Gvvzgenaq5ggFAyrxnDJtavh47YUUUmNQWYz9JeJ/2E67LNnh6+ZBcRPZylxgfJ2IB/9+kJkV97k\n",
       "tHRtHsZS0dnql9obuQ/LpdI8/YFjvzSXjI73u7cltNtZ4NEwHFlPxzZ4AvHYW8l7UY6mJf6D4Y00\n",
       "2wXL8wEr4Ulgb+NNZE/Tjo7BF3uj/Fiylvn1QKSNLc/KmG0vvtbbfmwm6iM7B/rdnCxHWHfXC5O/\n",
       "tRrQvGDh31Pdoebxeccrv3we8kv917vLOevc3pRmXQf0rC9j7apNYWdcEcxz9cxXB+sMuPv597t1\n",
       "3GCmcGY93Bl2eiIgSYiquF2vYNtAmNNxehkUsmYY3BMCmmlAdMW4osX10UwvwN8+WMRuZ0OoWY/C\n",
       "f6NHkx6BtQ1bwqyE5HXrG6/WGIYdHFkwf/Z8+PywhT8iUgpkiH+aOQlOL9jAqQIMrH2TGBXDpQYf\n",
       "jDRHkJf1GmCMDkB/oDVwVYGceH/hR+fylJeLGd395S9AYSCmFLbDI82kJqB89RK4syGfnJF9E/8w\n",
       "WjymUc3Ly60dUt/eXGyOhKzg7cLB8NONwZQljAE/V/pmvpiu7a4cmTOLmr0KIFU+os6KKjDvRlfQ\n",
       "hAuWd0spmUYGYIKIKLucm7zIO3/sjR7NFL9hd9id3dv+ImZ8SX4vfGHM/S3AgEffWl54JVJCVYC6\n",
       "tkGtGgGdVzYMKCSF9RpviU3zq+LOfw2rzPTQx/HF1kQOnA1GSluW+yInwcRfjf5trUpTMuijJcCG\n",
       "103LOer5J8RC3fxn8aYoI0X+o1TxVTgTGj1dHSd2OfDsXaNCIzxcbBpvtNR72km8hk4XhIQVW22f\n",
       "ytr5a3m2F8w88FlfGe1WBMiCHkVXWPocVLuLgCn4tJQRst2REH8WT+lsqF1cTgwfmDZpAfF70eCa\n",
       "535H0AyjVxylT1QkVkQXyP+KSJcNDOUlHlFiC97G+bsCInk2NKj3mMkK1sx6Xfvr4ByKmq3eP6R/\n",
       "t4Qi9DPHO9OiyVwh2BH9k7Ut+Ej0ZYV+UpEyWrnZOhGTGH/6OAKc/2n94ue58ljK0tVWqVhce05h\n",
       "N8sRzk+2z1bjgk/gJd3rOg4WbtzwNWcy0icRlM/HMBFMVdZYr6BN18B9Rv65zjatfzYe5/+6wF9g\n",
       "REaQBl0+vaTYEoajKynOs6BguKnElZxlIIjJU7gh4VLTxx/mjZgZWaAwfL3Gy9vP9Dj95YLT/lwv\n",
       "dKniCisMchyZq0AndkNYhD/Nbwhi3oJfvSPI+xsnPSZiaOb/vthzk6uk4j4qOR6WppNSaUtEkyxg\n",
       "7IiVUWeIhK46nhTs0z8zeeiUmfaBgNP/QFJVdF99+Vkqp+kt4zoEkUArv0oWhsc0PuqLPYe8Drds\n",
       "I1IQsN2WK9CPj2YWONQpmqlET7DJsgV97+mNBMPyTXF+E6XENcxRcAh+mbWq0AKUpUV6+kK4LY4R\n",
       "qwx5u/UYjtivi5n7+aySh9ZvgFPX9fThTrEroOpnCHbsonkYMeHLYD5l/12iTf/gg3SWliYbDPDT\n",
       "PSECvS/WCALpQ5K6OXCT9EgIC2QvmZQGY51bu6aQfr7PWcxKiYHH8e2EdXs/B2OUyMkjbyDA9q/t\n",
       "wSPuW0uJgr74wdsHDd2AJzBja4Wa29k81K0LyUi1PSW118u4W2iu4zpO3o89dp4ik0eosowlmFK7\n",
       "EtNJVveBYv7vBUp/a6L4C2N6MVp56YANUTMKbn5N35cXc6hhJiLx7AAxzdQY5ZWMfqNTev/v7RTt\n",
       "+iLIPVW61JmK2sq9cNiZN0ykl947igjfaKDArTXD1iBLGSLYjGnz7pdvyw7AHQQbNcl/mcLa/bQG\n",
       "AXrch9OQEtYTpeR+BLZ1C1WDJmbdP450ouWMojgx9c1xOnydDPZTUDWd9U/tjG8ybNIdNFySGHsw\n",
       "KBKWMYs4TaJD9MMN1DjqglEWDfCE10VehQSPveOeVF49qoKoAhWWni5B3gEBcfMGN6NtVBcFHym3\n",
       "VNomLbcLE34znJ8o0MEAAAHTQZohbEP//qmWEwKZ8AX+7Ha4IsEzAGS80x4gphrQoLoat2vmjthv\n",
       "QL1AxBx0N6Nx9+VJWYvULjYbe8NoraAX7vYl6w15ybGBcuvwHdu12W1VQE5tJ4QIJciMtvW7Ynl9\n",
       "VR6+7CvhL39mYqYlrUWJ7l78c4VWkFIcIR1/cxz36CsKo/btTKBx02vT+42FTAEv+z734ZRy1Jt3\n",
       "9Z6XgPc9zfQ9TL+fywnuHPVZpMjdPg0SrLx8pgdqmQwizP63sEFAshQ1+EvTm1orz8v6xvRiW5IE\n",
       "BmDZrRKF81qGPYfk/tjdPU6VhyLsg7hIPyyT7Y88AImcuy5YFdA6pUNXpgAB3D9tGrh7eGgwACj7\n",
       "GnG/ILyUpEyImpayuPiGXT94xe9TPanvYR+QbjMAgk8lkxCz2w8d3rdovCshHLi0KCnm+mo3ejoP\n",
       "RF3WB9fSm2MzqgWqw32Ar3d83MpQk0VJUnW18FCF5F4BdNOsO1Mke/fzjHDU9LB86BBIGsZh5Pez\n",
       "+thr+PiaVV798jKPRjlBeP2QkwtADb6LVIYj6Yyl74HHzASoU1FFTJVo6vAiS7oyeRIvJDSER6Tw\n",
       "pYu4g/xwgt+hNyOFdxqTJxSp5bB3fsMTeryThZQAAAGiQZpFPCGTKYQ///6plgBMeV/4J2+Ev8iV\n",
       "2AT9vZPyd4jg6NdYLBr9qtPJrwk3hWud/rH6AIt15aQWbhaNtXYbFytprd9DrjGepQPAX9WQuGcZ\n",
       "rO2etmzoS6d7seGMbVMMSc3uUl+msmIdCvw1NEqEM33/qHtS1D659/UKFg9zxkmVK6QqZnU5km+k\n",
       "eUKHci2ikK4TfFFvU9Tii14bhdXWOIAmsTYT7gwSklU5UxBbzIXgPB7lHm6saTplL0awA+awVY0O\n",
       "XIRRmvRDNpGIBVJT4X5t7hcujSPUBb1g3oDjPcEPT04eLYkrIo/LbMNAg9MrG5A/PcmgbT5TvxCR\n",
       "XunKLv+eR1CCPYp8MB7JK0YD1GpaH5tpgy9SvCdwlfyydr4C1za4cKiU/3ipY0i1cknJojb82KOS\n",
       "1GKwiNuzSVyVn/DJuIvoTm1ooIaIjNgvmjbHKayvZebRM80pJQbN1hEci8R/9dryjDo6SCpcA1Na\n",
       "qO8UH06j4XTzA1pDPnZfjurB3O0Ao7UrVq0wkS6ARBwIHqaUZW2eT0khwkNC50FtGcDB+wAAARZB\n",
       "nmNqU8M/AECzfnuQq9C0D50GAB968vsrjN3tYrf70WmkNdQgMJxva/w34Loh2Uj/WnOozBrODd0L\n",
       "GHiCL9NPzR5u7VyBM3bb3XMci3zBe4q+0qsg6CXRY5g8qEoaB7IrUtzISW3IRJgu+EpQ6YkJTVN/\n",
       "8Au01v84THzGyZMNJe9ZXDXWJGLmXd0wvsiWrLzO5lk5J2ONJymjf8FHhAmdy6nzkev6ZJAuEFEN\n",
       "RfEXloP+QAVfK+nG1fyUFNgjMobe1omKhqHWo8XkWGojH4qX5+RajK0LhKceao7F8UhGbReywAst\n",
       "XD+GP4hzRQSlmaAcke1BYKlmlKV5C5PYSIL6NqemCpX1tU8qbQk65E7GVoUjdQt1oAAAAJgBnoJ0\n",
       "Qr8AeXffz60zgBbwIYreMba6csIE8EbOf6oSyh/Jl6ajfrwVwcrTWNbYPLI7wMRS3SJ4FRjpIDux\n",
       "IHaeaDfOWxwpihhPAJ2adrbNy6FDPj20AVtIb2j6v/ahI/dRQ0LD8tfGBtq8435hExog+UoSUvbS\n",
       "9YWl9qJ+G7bpsA9JLNNf+j6GZhltZpxdvmTN+P1VGw8XfQAAAMoBnoRqQr8AeZj/U1I2IWtRvWND\n",
       "8gBF0tU7CdQCBijSiWElKziB4x5Oa+Jf+H8RPtt3BXTJApzqhXmNV2FI8sNb1iKPe6Lqamv6HJOt\n",
       "LDlndM+EiEARiV6Ot4K0B1YL7rWtpfmX9O01lqQ9kduNp3MwcKm+D9/TRo2dmORF2fKU8lkZIdpi\n",
       "wSSeF7xsnHMFtRUUsj/ZZmFg7UI+2mUVLiP2rA9u75X44inRj9iIdfo4SdnctdtNgiq56QXw5s4Y\n",
       "UJ92D0eVJK7hBcdlAAAAwkGaiUmoQWiZTAh///6plgBMJ+jr2gAulA3R+G58QK7HBjfyfinnidXZ\n",
       "JAZ8tn6ESfuJn8OVf1JU9eMBWx5JGUNrRJ0RcBQMFuVykLACiB+bBRROeTUWu4BYOz1iiElEZxrc\n",
       "9Eaz6ltBX032SrwbU0gUU6WkaJcJlecRE+wrg7zUk1BQogF3T2s/VhaqYnVQ0y+YJiN61I12qOr7\n",
       "JwYyvLyc3MbzZzaWcEhmKzO8lc2IOcFYk9nIkT1nplsBpAOSVx0RAAAAz0Gep0URLDP/AEGQ8gBb\n",
       "hpJ8GHPI8Y8bX7jWXxOuOuVLEsEMM00d6nXoryJpcWiaTCUg73UqBQAwr77pR90g0CWQSn5Iuaql\n",
       "+yKAVougK6xqNPLcxN8ZS2oPaxzMaz42rMmhsiA7cce2qWmJl6W5LAzGUkTT8tX2PK6c7VsJGKs5\n",
       "D1mhBpv5swxe67zVZXhOT/QMBuQMo6jURPOGV4KXTGd9IYPBw9bFze2poiQcnzBvzMSh3QqxPAZ/\n",
       "3XyyvjTDTj2b8VOxc8pIwTFdTck+WQAAAMwBnsZ0Qr8AeZttewCkN4hnLIkEJLSUvM+s9rsOTNoq\n",
       "0s4IizOjZy7SpJvOoIWLgg5Q+So3RJaLyd/23lmBvpYMuv2eLmsDX4rjygjz+d0A0NcTo9CUgf1s\n",
       "DbNxDh304AyOK9lrMH3qEVFhAHXwURew31+CQCOSUb73ajH5b0SqCekmOfhx0c5+TakqWpcMfRFs\n",
       "7lmL9GHAdvq5WaMZI28xYjXHJmKv6ZDG0Mlu3lQn5Gib/fpIX/ZeF3GNHqmzW/OcR+CFEm6J8oz5\n",
       "rkwAAADJAZ7IakK/AHmVWUZoAEqlrSrN1npinqRnkar7aqSqG9X00aeU7Z22bvFrVcccJr+4/DPW\n",
       "NIfyS3WChy2BFg5XRIPopV5qVZs3imTItgFnThY6yyUX6PBnJj8Rp/q1v3x43b0zaAL9WNP9AYBj\n",
       "Mv2J6t7gjotFq90pSJlZzwk6g/2agbgy0K0HFOLI9AlCrgsyG0ER9/pSjdVN41F5apPdtvTKkEmv\n",
       "T7CfqDz2TWD16yuQCYIyGh7kE4xdZFOTAltBKDOAibCgD0s4AAAA0kGazUmoQWyZTAh///6plgBO\n",
       "Ds2OlZ+hJMqndAukWYDF3KPf7lSAkGKHxef21g1L2fOgoyQLu/kF6P6pHAHwGFXKCDZoDYCUv5/x\n",
       "eC/5dQK2IzPzw2ROwSE55h3rd7U3WFZLLJryPGhnHs2Ymrbc/JSKWioflNkJqkwcX/x7g4EXQ0Kn\n",
       "Bfr3YW8AP0s1vAezAgCyBWKBXHOrOcNhSNnUTxZE3YrNgHc9KHSNWdRlnUWBisHMbl3tkmy1uRRf\n",
       "paWeMxUjjK+lzuUGQZK77osp412H2QAAAMRBnutFFSwz/wBDbiIDuIaH6W/a6t30fACtdSgj4uYM\n",
       "fc5AMUXJx2IRpH3/cIOOvdorLdhie06p3WQn+mz8NZ1lNzC9BJdmFwinqre0Bpn6SVdWIM457qrM\n",
       "T8NsaukUHwqJ809WAVfbxFiY6g8n9Ppew1t58j8oFQRqLkAT6FcF9PfvXSGySfCM8VcJJTF5YED0\n",
       "aVy8OnS7BfiHjlRJsEzz+2elx4UTIGREIbNwrOjSmhL/4vi5kQ4V0tYb15KPI8HcUY2AAAAArQGf\n",
       "CnRCvwB5c2R6BxGRav0LSooK3xDLgAfiSwKWG0V7UvmqCgLkV+veKVcJtc+GDO7tFcyYsR4GA9LV\n",
       "2iOXWyyc3wiE//kQtyABimmEoUYTjxNhvHCR8hcddqzIxCVnxhAv5EuA1I3yxrZATUiH6ERlSOP6\n",
       "3kmPgs6uJJJKeLBtOciNT4fmb+tPrhf+uAeJt01XOQYTIPuaAZX39K8o1FfJj67q4lezyoc0hmdo\n",
       "AAAAwgGfDGpCvwB8OCFwnXzyN4ATRr42/hgQkXhIZBZkq5Dbiwb3foMKaeC+Uyq0qLW5YOeT23of\n",
       "3/R0rTSmQdv9GH6oWJCkyH9B1sqm7VLFFCP99rp1Dy2f6jq3kyszXBCN5AO4Hb4ThHAZeDiJdjRj\n",
       "Q/99fTRjAWvuM18JtHOlAGZjel6yBGZX8c9tZGBSOd85UNeYEzjAyAPjNzz/W8V14wtUss2yIXl+\n",
       "W1ByEo3WsNtjGIdct4csDO6iFVYQfdICjzVLAAAAqEGbEUmoQWyZTAh3//6plgBOCiGspkz1kP+0\n",
       "LNeFoAL1DJaiizY6l4qSBN/CWntspqDHvSqxi/ZtAYJXuJsMAcr0rwKV36dVjap1lS5E2xAm68wy\n",
       "nTQDg7/oqkpFZeP2jcodfySEaaj3wt/SYIhVIu1NDPcO/dNuv/wf3ObigFZVp2zmTRRlcRQ7ucAx\n",
       "xXrxyY+LDiF56RCbAOBv9FkNLwOec72DyEWA8QAAALxBny9FFSwz/wBDdTzuY2atopeqmEAIO2cf\n",
       "Lvz6ivN3i512AVeGEd2O3VKMYA3mP4M/UytHN6BUhExr2G/NZTilvAquPD6GgeBvVV1Ztu6FU0Ud\n",
       "oDmz425R9VXXbFtEvaDglUQUkf2esxGsvuC/pR2t3rtig3dqwyyyz6GEdHeLcLiaTK+vwWIiv/QI\n",
       "80VDijJDSjy4rbx581vJ2ExVbw9TYP9ysHSYKsHCQnEnzZpIZeOGPX3j+B0vml/X8QAAAMsBn050\n",
       "Qr8AfEm4E9gB0MjAcJopf8WuA/yx+fNhobqT9frmbp08JGILMeiHSXWOJk/lzQxfH93ApyFP5ITR\n",
       "TGJyPkCI4hDp1gxGOmbyTJzuqabmS2Y8DkTW2Y41TreyMgLE2nVomIYlf7YrvfQCYyYZBRDBYVOM\n",
       "mDrEvnV6nw/jCDJVU11MFFNdpCg0CE4V9Wa2w4MjvgZcj2w5uInEkoBNzMEzKaR92z8Iwps8gqfx\n",
       "NExrUvPhDwtVGaPsAees05bxf4a4dWLq0t+R5wAAAMcBn1BqQr8AfFVZS+IAW4wlm0/Ct4zzqa17\n",
       "nE7YCPjc71MB3lNnWeZhPNcE4+cK/qwblPfhJyZThc+fF12HftaE5woqb2euE0tO2FS34sTFYQAt\n",
       "IE2uLSTIilJ5qepY6ZN0UaZ+1gy4Y0HbIB4HWuFt0fH5hjJ5KarYW7EkYcTKHIXLCmxgo++Ps/tJ\n",
       "rud1z8STVqjM+kTJkan792KabGR2ZjhvzTr0/3gYDQ9y1bXhbApdTyaraAj1liqJosfy//xILzfM\n",
       "h4qAAAAAwUGbVUmoQWyZTAh3//6plgBOCiGujKgtVAA0VnvNXRwOw8/2ff6n1YaxDApewkC/NGau\n",
       "vYxXZrf6LQ/h1N+t9UCIuAzE2WF1ytYSqixpHPL/GIPmsjusXncLfBDlYkCLL/QEkgawbWg+UV1F\n",
       "ZQ5hZ1+VeGLVgHzJyoi9L2ksxqashPj8JlYnxtqymxvzP24pcdAO63b8VEb9FMK/bxg/HzBpp0tM\n",
       "n01Hw3QtOnZPrDlXpI8xQsA1Ps/v0q+eDojAw4EAAACxQZ9zRRUsM/8ARW4iA7iGV4oAX+xkDFUy\n",
       "iN73yaVP/Oe0p4wlDgod8UaSKH17Ry5bRPdh5Uvx0vmyuDfsU+NEc5Ifjky3fv4HbTie04if/7/1\n",
       "ValLs+csVj/VDSPbXFyPdgQ15bhB9bR5qTZg11L6H9My2CD7NiMWMxUc8gHI2iz/The8jAfB+rdb\n",
       "HA2HVtcqo7vcOiPC1V6aUw1oe4nVuFzUjVYh46QaylpRZsrq67A0AAAArgGfknRCvwB8DXWfqHTr\n",
       "hHhCAFcRsZaGLaYrEWpIqLMMtIoVEwOwqp/gAh7tZWmMbQP/Vvw3mOeGPMkQrscsB3fejNr5P3IR\n",
       "qcvo+IaV/KByoj/AdbtDVALmQkc/ufTTQdYXFVayjdVgWn9BY+fu39Bh2xqkgtXrp2W7x7v8665X\n",
       "usfEuZnz7g8Us7BEfzvEsMloHI7DMAVge0rBf2Sl44lT30BzYu344PkPkbXmgAAAALgBn5RqQr8A\n",
       "fyqAMXEAcqKMY9hwnEkBVbZGJ2i36Fw1yDm1blHdt035LnhkAfYNbXoDnv4RTxyhuDr1dq+yL07g\n",
       "pmffPoIXLRFdQB6uw7nQdcq6K6C96OSNhOTsnedlFnbPSDugTNNdqCl3TVuxy6wifmcyG5dyDQDO\n",
       "o980dvhr6NjQl9Qj+/o/k2gkwwoQDwcEkb3CfbGPbKCLbgXLCdhdk1X1VWINOGECxPStrg1jFwA4\n",
       "iJtemSXbAAAAi0GbmUmoQWyZTAhv//6nhACej12ilKgz+BwAQMuYbT1GDv/3iiseQwlP4AozShkd\n",
       "qtozsnSecZYAW/qutjhpKL8LETpTRRbGyhA7jrfHNC5eRzV+//4IBeDB/dQ7BTIBQ6fgnr46ZSvL\n",
       "fvtLzxomOhtmrBSHIN1/dUe3RyEeKXyKGZgAldm4uTD7qcAAAACPQZ+3RRUsM/8ARXU8wYcr4OXw\n",
       "ckADq05QSOmrPUj98jVEnuQ7E2m7amenF8zebfIuJOgOkIb3PoriGM11UvTcJ2BrkXXfv830uM3q\n",
       "/q0+IOX6tHRMGf1mX0yaJV/ph2FKE7t27HPDviy+tkUrrRcWbgPDnSyAG0hdHCk3Tls9VAx9I32o\n",
       "545NSBA1HtHpa1EAAAC3AZ/WdEK/AH7zUk8AEd4kfU6rpTuOGRx6TKpohUZX2e66N1TPElK6cBx1\n",
       "/Kx9yRfw3hwE0+f5XdNJMgZ9mrlABiCtjWTrRETV3jeqSouFjPJNg0/6IlHnMM0NRDs7duJTzRIL\n",
       "o3ARLS5M+1k8dq3uGa2tx/N4uCzizb7ZdNB7zc4LwzdPdrKY7NsZE5oVeyCDiqwY/a7P7Dv8VhVm\n",
       "YXqeq2IqDjP9GSPRKBk/hysCOub06XgGShhBAAAAqQGf2GpCvwB/FVlL4gBblokEq61Uyt1jjqIy\n",
       "tqvseh9avruJhLX1GbtrrsjQGyMu8aqKcGjGjPLKNZ28KiTSAydJbMOuRtOhzw6t4ZhkYLzHDgGW\n",
       "CfLCrhKKPVF8Vp8G1UB4++ekQyM6cQjyk1B/0n9eIMsCD47ff87eyi626lXhWopbsCR47VWJ57N3\n",
       "TQU8ZWVScVXyiaSPvzVa6tjRn0gMQdw0ZYoHE+QAAABdQZvdSahBbJlMCFf//jhACWemQjHhGBbt\n",
       "rgAJ0w2HI5Zx8BwwSl8/RZw7WDzjVU8AGKele66Kp4p4RKqz+q7TlIT1z+JxSaZjLqgCq4jKyXCg\n",
       "CjwWUV4Ygr8fuOe7AAAAlkGf+0UVLDP/AEV1PO7Vq89b01FekwAQ1Us0Xus/TFMbuUFUQx4aKOKK\n",
       "Hsq243wmql/8HYY/PwZiHX/Yw3CJvLTTbOlOUD4WGw1zVRmn8P0jxCxEHTZya+zTH3amZN9TDZmj\n",
       "Eb+Te61KAykiixP31vFFPtl/ebcSr6tgiMFzd9+L2II0KnSZtR/aCqDLspOwWf2RNDi06AAAAKAB\n",
       "nhp0Qr8Afs11n6gsOTe2inQYgo9tKF6AEylj/ODtKcfFnxD2/171MLh3exkKmDpuPuOa9xTOpbX+\n",
       "9JTbVhBJxDmXruZPBmOw3aP/W1x1FyGxUBzoJFEDp2HpDXKpRY7dj9F7/4siCwEUKzrxCn8/g2sS\n",
       "VG+Ss9j9iAYGPeao6OX+UuAHJtbXmy0EI5LVd14CrWBIvoRJTGDobYOzyz0fAAAAzAGeHGpCvwCC\n",
       "uiu4gCthGGM8YkohJbosOzErke/F0HluX1OUZRcUVgveF92APWxGVPF1mwzG3HmpYRZH3hXoUenD\n",
       "CqNyM6BvQZYY+VU7VPxFxtha0xbDP1z9R6CUwm4untgRT8gt086i6Dds0tNaGt+6+jqD+y5mIo1r\n",
       "l/mrGuVfP4Id1/nkDtC8ieZb8HNAIOqPcQ9UPPun2kccBW77ruE/sn22ioI+0wpqYKIPEhKMOBud\n",
       "1qmde9DvWJqJkBgsG91pIth2CYC1xj8+YQAABI5tb292AAAAbG12aGQAAAAAAAAAAAAAAAAAAAPo\n",
       "AAAF3AABAAABAAAAAAAAAAAAAAAAAQAAAAAAAAAAAAAAAAAAAAEAAAAAAAAAAAAAAAAAAEAAAAAA\n",
       "AAAAAAAAAAAAAAAAAAAAAAAAAAAAAAAAAAACAAADuHRyYWsAAABcdGtoZAAAAAMAAAAAAAAAAAAA\n",
       "AAEAAAAAAAAF3AAAAAAAAAAAAAAAAAAAAAAAAQAAAAAAAAAAAAAAAAAAAAEAAAAAAAAAAAAAAAAA\n",
       "AEAAAAABsAAAASAAAAAAACRlZHRzAAAAHGVsc3QAAAAAAAAAAQAABdwAAAQAAAEAAAAAAzBtZGlh\n",
       "AAAAIG1kaGQAAAAAAAAAAAAAAAAAACgAAAA8AFXEAAAAAAAtaGRscgAAAAAAAAAAdmlkZQAAAAAA\n",
       "AAAAAAAAAFZpZGVvSGFuZGxlcgAAAALbbWluZgAAABR2bWhkAAAAAQAAAAAAAAAAAAAAJGRpbmYA\n",
       "AAAcZHJlZgAAAAAAAAABAAAADHVybCAAAAABAAACm3N0YmwAAACzc3RzZAAAAAAAAAABAAAAo2F2\n",
       "YzEAAAAAAAAAAQAAAAAAAAAAAAAAAAAAAAABsAEgAEgAAABIAAAAAAAAAAEAAAAAAAAAAAAAAAAA\n",
       "AAAAAAAAAAAAAAAAAAAAAAAAAAAY//8AAAAxYXZjQwFkABX/4QAYZ2QAFazZQbCWhAAAAwAEAAAD\n",
       "AKA8WLZYAQAGaOvjyyLAAAAAHHV1aWRraEDyXyRPxbo5pRvPAyPzAAAAAAAAABhzdHRzAAAAAAAA\n",
       "AAEAAAAeAAACAAAAABRzdHNzAAAAAAAAAAEAAAABAAAA+GN0dHMAAAAAAAAAHQAAAAIAAAQAAAAA\n",
       "AQAACgAAAAABAAAEAAAAAAEAAAAAAAAAAQAAAgAAAAABAAAKAAAAAAEAAAQAAAAAAQAAAAAAAAAB\n",
       "AAACAAAAAAEAAAoAAAAAAQAABAAAAAABAAAAAAAAAAEAAAIAAAAAAQAACgAAAAABAAAEAAAAAAEA\n",
       "AAAAAAAAAQAAAgAAAAABAAAKAAAAAAEAAAQAAAAAAQAAAAAAAAABAAACAAAAAAEAAAoAAAAAAQAA\n",
       "BAAAAAABAAAAAAAAAAEAAAIAAAAAAQAACgAAAAABAAAEAAAAAAEAAAAAAAAAAQAAAgAAAAAcc3Rz\n",
       "YwAAAAAAAAABAAAAAQAAAB4AAAABAAAAjHN0c3oAAAAAAAAAAAAAAB4AABXtAAAB1wAAAaYAAAEa\n",
       "AAAAnAAAAM4AAADGAAAA0wAAANAAAADNAAAA1gAAAMgAAACxAAAAxgAAAKwAAADAAAAAzwAAAMsA\n",
       "AADFAAAAtQAAALIAAAC8AAAAjwAAAJMAAAC7AAAArQAAAGEAAACaAAAApAAAANAAAAAUc3RjbwAA\n",
       "AAAAAAABAAAALAAAAGJ1ZHRhAAAAWm1ldGEAAAAAAAAAIWhkbHIAAAAAAAAAAG1kaXJhcHBsAAAA\n",
       "AAAAAAAAAAAALWlsc3QAAAAlqXRvbwAAAB1kYXRhAAAAAQAAAABMYXZmNTcuNTIuMTAw\n",
       "\">\n",
       "  Your browser does not support the video tag.\n",
       "</video>"
      ],
      "text/plain": [
       "<IPython.core.display.HTML object>"
      ]
     },
     "execution_count": 13,
     "metadata": {},
     "output_type": "execute_result"
    }
   ],
   "source": [
    "anim = animation.FuncAnimation(fig, animate, frames=rho_n, interval=50)\n",
    "HTML(anim.to_html5_video())"
   ]
  },
  {
   "cell_type": "code",
   "execution_count": null,
   "metadata": {
    "collapsed": true
   },
   "outputs": [],
   "source": []
  }
 ],
 "metadata": {
  "kernelspec": {
   "display_name": "Python [default]",
   "language": "python",
   "name": "python3"
  }
 },
 "nbformat": 4,
 "nbformat_minor": 1
}
