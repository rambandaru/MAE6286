{
 "cells": [
  {
   "cell_type": "code",
   "execution_count": 9,
   "metadata": {
    "collapsed": true
   },
   "outputs": [],
   "source": [
    "import numpy as np\n",
    "import sympy\n",
    "import math\n",
    "from matplotlib import pyplot as plt\n",
    "%matplotlib inline\n",
    "from sympy import init_printing\n",
    "init_printing()"
   ]
  },
  {
   "cell_type": "markdown",
   "metadata": {},
   "source": [
    "## Burgers Equation"
   ]
  },
  {
   "cell_type": "markdown",
   "metadata": {},
   "source": [
    "Burgers equation in 1-Dimension is given by:\n",
    "\n",
    "$\\frac{\\partial u}{\\partial t}+ u\\frac{\\partial u}{\\partial x}$ = $\\nu \\frac{\\partial^2 U}{\\partial x^2}$"
   ]
  },
  {
   "cell_type": "markdown",
   "metadata": {},
   "source": [
    "#### Discretizing"
   ]
  },
  {
   "cell_type": "markdown",
   "metadata": {},
   "source": [
    "$ \\frac{u_i^{n+1}-u_i^n}{\\Delta t}+ u_i^n \\frac{u_i^n - U_{i-1}^n}{\\Delta x} = \\nu \\frac{U_{i+1}^n-2u_i^n+u{i-1}^n}{\\Delta x^2}$"
   ]
  },
  {
   "cell_type": "code",
   "execution_count": 13,
   "metadata": {
    "collapsed": false
   },
   "outputs": [
    {
     "data": {
      "image/png": "[encoded data removed]",
      "text/latex": [
       "$$e^{- \\frac{\\left(- 4 t + x - 6.28318530717959\\right)^{2}}{4 \\nu \\left(t + 1\\right)}} + e^{- \\frac{\\left(- 4 t + x\\right)^{2}}{4 \\nu \\left(t + 1\\right)}}$$"
      ],
      "text/plain": [
       "                               2                2 \n",
       " -(-4⋅t + x - 6.28318530717959)      -(-4⋅t + x)  \n",
       " ────────────────────────────────    ─────────────\n",
       "           4⋅ν⋅(t + 1)                4⋅ν⋅(t + 1) \n",
       "ℯ                                 + ℯ             "
      ]
     },
     "execution_count": 13,
     "metadata": {},
     "output_type": "execute_result"
    }
   ],
   "source": [
    "x, nu, t = sympy.symbols('x nu t')\n",
    "phi = sympy.exp(-(x-4*t)**2/(4*nu*(t+1))) + \\\n",
    "sympy.exp(-(x-4*t-2*np.pi)**2/(4*nu*(t+1)))\n",
    "phi"
   ]
  },
  {
   "cell_type": "code",
   "execution_count": 14,
   "metadata": {
    "collapsed": false
   },
   "outputs": [
    {
     "data": {
      "image/png": "[encoded data removed]",
      "text/latex": [
       "$$- \\frac{e^{- \\frac{\\left(- 4 t + x\\right)^{2}}{4 \\nu \\left(t + 1\\right)}}}{4 \\nu \\left(t + 1\\right)} \\left(- 8 t + 2 x\\right) - \\frac{1}{4 \\nu \\left(t + 1\\right)} \\left(- 8 t + 2 x - 12.5663706143592\\right) e^{- \\frac{\\left(- 4 t + x - 6.28318530717959\\right)^{2}}{4 \\nu \\left(t + 1\\right)}}$$"
      ],
      "text/plain": [
       "                           2                                                  \n",
       "                -(-4⋅t + x)                                      -(-4⋅t + x - \n",
       "                ─────────────                                    ─────────────\n",
       "                 4⋅ν⋅(t + 1)                                               4⋅ν\n",
       "  (-8⋅t + 2⋅x)⋅ℯ                (-8⋅t + 2⋅x - 12.5663706143592)⋅ℯ             \n",
       "- ─────────────────────────── - ──────────────────────────────────────────────\n",
       "          4⋅ν⋅(t + 1)                                      4⋅ν⋅(t + 1)        \n",
       "\n",
       "                 2 \n",
       "6.28318530717959)  \n",
       "───────────────────\n",
       "⋅(t + 1)           \n",
       "                   \n",
       "───────────────────\n",
       "                   "
      ]
     },
     "execution_count": 14,
     "metadata": {},
     "output_type": "execute_result"
    }
   ],
   "source": [
    "phiprime = phi.diff(x)\n",
    "phiprime"
   ]
  },
  {
   "cell_type": "code",
   "execution_count": 17,
   "metadata": {
    "collapsed": false
   },
   "outputs": [
    {
     "name": "stdout",
     "output_type": "stream",
     "text": [
      "The value of u at t=1, x=4, nu=3 is 3.4917066420644494.\n"
     ]
    }
   ],
   "source": [
    "u_lamb = lambdify((t, x, nu), u)\n",
    "print(\"The value of u at t=1, x=4, nu=3 is {}.\".format(u_lamb(1,4,3)))"
   ]
  },
  {
   "cell_type": "code",
   "execution_count": 38,
   "metadata": {
    "collapsed": false
   },
   "outputs": [],
   "source": [
    "nx = 101\n",
    "nt = 100\n",
    "dx = 2*np.pi/(nx-1)\n",
    "nu = 0.07\n",
    "sigma = 0.1\n",
    "dt = sigma*dx**2/nu\n",
    "\n",
    "x = np.linspace(0, 2*np.pi, nx)\n",
    "#print(x)\n",
    "#print (2*np.pi)\n",
    "un = np.empty(nx)\n",
    "t = 0\n"
   ]
  },
  {
   "cell_type": "code",
   "execution_count": 39,
   "metadata": {
    "collapsed": false
   },
   "outputs": [
    {
     "name": "stdout",
     "output_type": "stream",
     "text": [
      "[ 4.          4.06283185  4.12566371  4.18849556  4.25132741  4.31415927\n",
      "  4.37699112  4.43982297  4.50265482  4.56548668  4.62831853  4.69115038\n",
      "  4.75398224  4.81681409  4.87964594  4.9424778   5.00530965  5.0681415\n",
      "  5.13097336  5.19380521  5.25663706  5.31946891  5.38230077  5.44513262\n",
      "  5.50796447  5.57079633  5.63362818  5.69646003  5.75929189  5.82212374\n",
      "  5.88495559  5.94778745  6.0106193   6.07345115  6.136283    6.19911486\n",
      "  6.26194671  6.32477856  6.38761042  6.45044227  6.51327412  6.57610598\n",
      "  6.63893783  6.70176967  6.76460125  6.82742866  6.89018589  6.95176632\n",
      "  6.99367964  6.72527549  4.          1.27472451  1.00632036  1.04823368\n",
      "  1.10981411  1.17257134  1.23539875  1.29823033  1.36106217  1.42389402\n",
      "  1.48672588  1.54955773  1.61238958  1.67522144  1.73805329  1.80088514\n",
      "  1.863717    1.92654885  1.9893807   2.05221255  2.11504441  2.17787626\n",
      "  2.24070811  2.30353997  2.36637182  2.42920367  2.49203553  2.55486738\n",
      "  2.61769923  2.68053109  2.74336294  2.80619479  2.86902664  2.9318585\n",
      "  2.99469035  3.0575222   3.12035406  3.18318591  3.24601776  3.30884962\n",
      "  3.37168147  3.43451332  3.49734518  3.56017703  3.62300888  3.68584073\n",
      "  3.74867259  3.81150444  3.87433629  3.93716815  4.        ]\n"
     ]
    }
   ],
   "source": [
    "u = np.asarray([u_lamb(t, x0, nu) for x0 in x])\n",
    "print (u)"
   ]
  },
  {
   "cell_type": "code",
   "execution_count": 48,
   "metadata": {
    "collapsed": false
   },
   "outputs": [
    {
     "data": {
      "image/png": "[encoded data removed]",
      "text/plain": [
       "<matplotlib.figure.Figure at 0x7f0cffe1dcc0>"
      ]
     },
     "metadata": {},
     "output_type": "display_data"
    }
   ],
   "source": [
    "plt.figure(figsize=(10,7), dpi=100)\n",
    "plt.plot(x,u, ls= \"--\", lw=3)\n",
    "plt.xlim([0,2*np.pi])\n",
    "plt.ylim([0,10]);"
   ]
  },
  {
   "cell_type": "code",
   "execution_count": null,
   "metadata": {
    "collapsed": true
   },
   "outputs": [],
   "source": []
  }
 ],
 "metadata": {
  "anaconda-cloud": {},
  "kernelspec": {
   "display_name": "Python [default]",
   "language": "python",
   "name": "python3"
  },
  "language_info": {
   "codemirror_mode": {
    "name": "ipython",
    "version": 3
   },
   "file_extension": ".py",
   "mimetype": "text/x-python",
   "name": "python",
   "nbconvert_exporter": "python",
   "pygments_lexer": "ipython3",
   "version": "3.5.2"
  }
 },
 "nbformat": 4,
 "nbformat_minor": 1
}
